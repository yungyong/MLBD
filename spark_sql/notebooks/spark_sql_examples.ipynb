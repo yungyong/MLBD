{
 "cells": [
  {
   "cell_type": "markdown",
   "metadata": {},
   "source": [
    "# Spark SQL\n",
    "\n",
    "Before you begin, make sure that you've installed spark of version `2.3` or higher (see `README.md`)\n",
    "\n",
    "**Links**\n",
    "\n",
    "* https://spark.apache.org/docs/latest/sql-getting-started.html"
   ]
  },
  {
   "cell_type": "code",
   "execution_count": 1,
   "metadata": {},
   "outputs": [
    {
     "name": "stdout",
     "output_type": "stream",
     "text": [
      "Welcome to\r\n",
      "      ____              __\r\n",
      "     / __/__  ___ _____/ /__\r\n",
      "    _\\ \\/ _ \\/ _ `/ __/  '_/\r\n",
      "   /___/ .__/\\_,_/_/ /_/\\_\\   version 2.4.4\r\n",
      "      /_/\r\n",
      "                        \r\n",
      "Using Scala version 2.11.12, OpenJDK 64-Bit Server VM, 1.8.0_242\r\n",
      "Branch \r\n",
      "Compiled by user  on 2019-08-27T21:31:02Z\r\n",
      "Revision \r\n",
      "Url \r\n",
      "Type --help for more information.\r\n"
     ]
    }
   ],
   "source": [
    "!spark-submit --version"
   ]
  },
  {
   "cell_type": "code",
   "execution_count": 2,
   "metadata": {},
   "outputs": [
    {
     "name": "stdout",
     "output_type": "stream",
     "text": [
      "/workspace/spark_sql\r\n",
      "-rw-rw-r-- 1 1001 1001 1.2K Feb  5 08:33 README.md\r\n"
     ]
    }
   ],
   "source": [
    "!pwd && ls -lah | grep README"
   ]
  },
  {
   "cell_type": "markdown",
   "metadata": {},
   "source": [
    "## Запуск spark"
   ]
  },
  {
   "cell_type": "code",
   "execution_count": 2,
   "metadata": {},
   "outputs": [],
   "source": [
    "%matplotlib inline\n",
    "%config InlineBackend.figure_format ='retina'\n",
    "\n",
    "import os\n",
    "import sys\n",
    "import glob\n",
    "import pickle\n",
    "import seaborn as sns\n",
    "import matplotlib.pyplot as plt\n",
    "\n",
    "import pyspark\n",
    "from pyspark.conf import SparkConf\n",
    "from pyspark.sql import SQLContext\n",
    "from pyspark.sql import SparkSession\n",
    "\n",
    "\n",
    "spark = SparkSession \\\n",
    "    .builder \\\n",
    "    .master('local[*]') \\\n",
    "    .appName(\"spark_sql_examples\") \\\n",
    "    .config(\"spark.executor.memory\", \"4g\") \\\n",
    "    .getOrCreate()\n",
    "\n",
    "sc = spark.sparkContext\n",
    "sqlContext = SQLContext(sc)"
   ]
  },
  {
   "cell_type": "code",
   "execution_count": 3,
   "metadata": {},
   "outputs": [],
   "source": [
    "DATA_PATH = '/workspace/apache_spark/notebooks/data/ml-25m/'\n",
    "\n",
    "RATINGS_PATH = os.path.join(DATA_PATH, 'ratings.csv')\n",
    "MOVIES_PATH = os.path.join(DATA_PATH, 'movies.csv')\n",
    "TAGS_PATH = os.path.join(DATA_PATH, 'tags.csv')"
   ]
  },
  {
   "cell_type": "markdown",
   "metadata": {},
   "source": [
    "---\n",
    "## DataFrame creation\n",
    "\n",
    "DataFrame можно создать несколькими способами:\n",
    "\n",
    "* из файла\n",
    "* из существующего RDD\n",
    "* из другого DataFrame'a\n",
    "\n",
    "### From file\n",
    "\n",
    "В случае с созданием из csv файла, может понадобится указать схему"
   ]
  },
  {
   "cell_type": "code",
   "execution_count": 4,
   "metadata": {},
   "outputs": [],
   "source": [
    "from pyspark.sql.types import *\n",
    "\n",
    "\n",
    "schema = StructType([\n",
    "    StructField('user_id', IntegerType()),\n",
    "    StructField('movie_id', IntegerType()),\n",
    "    StructField('rating', FloatType()),\n",
    "    StructField('timestamp', IntegerType())\n",
    "])\n",
    "\n",
    "ratings_df = sqlContext.read \\\n",
    "    .format('com.databricks.spark.csv') \\\n",
    "    .schema(schema) \\\n",
    "    .options(header='true', delimiter=',') \\\n",
    "    .load('file:///' + RATINGS_PATH)"
   ]
  },
  {
   "cell_type": "code",
   "execution_count": 56,
   "metadata": {},
   "outputs": [
    {
     "name": "stdout",
     "output_type": "stream",
     "text": [
      "root\n",
      " |-- movie_id: long (nullable = true)\n",
      " |-- rating: double (nullable = true)\n",
      " |-- timestamp: long (nullable = true)\n",
      " |-- user_id: long (nullable = true)\n",
      "\n"
     ]
    }
   ],
   "source": [
    "ratings_df.printSchema()"
   ]
  },
  {
   "cell_type": "code",
   "execution_count": 23,
   "metadata": {},
   "outputs": [
    {
     "data": {
      "text/plain": [
       "[Row(user_id=1, movie_id=296, rating=5.0, timestamp=1147880044),\n",
       " Row(user_id=1, movie_id=306, rating=3.5, timestamp=1147868817),\n",
       " Row(user_id=1, movie_id=307, rating=5.0, timestamp=1147868828),\n",
       " Row(user_id=1, movie_id=665, rating=5.0, timestamp=1147878820),\n",
       " Row(user_id=1, movie_id=899, rating=3.5, timestamp=1147868510)]"
      ]
     },
     "execution_count": 23,
     "metadata": {},
     "output_type": "execute_result"
    }
   ],
   "source": [
    "ratings_df.take(5)"
   ]
  },
  {
   "cell_type": "markdown",
   "metadata": {},
   "source": [
    "### From RDD\n",
    "\n",
    "Для того чтобы построить DataFrame из RDD нужно у RDD вызвать метод `toDF`.\n",
    "\n",
    "*Remark:* RDD можно получить из DataFrame с помощью аттрибута `rdd`."
   ]
  },
  {
   "cell_type": "code",
   "execution_count": 24,
   "metadata": {},
   "outputs": [],
   "source": [
    "ratings = sc.textFile('file:///' + RATINGS_PATH)"
   ]
  },
  {
   "cell_type": "code",
   "execution_count": 57,
   "metadata": {},
   "outputs": [
    {
     "data": {
      "text/plain": [
       "['userId,movieId,rating,timestamp',\n",
       " '1,296,5.0,1147880044',\n",
       " '1,306,3.5,1147868817',\n",
       " '1,307,5.0,1147868828',\n",
       " '1,665,5.0,1147878820']"
      ]
     },
     "execution_count": 57,
     "metadata": {},
     "output_type": "execute_result"
    }
   ],
   "source": [
    "ratings.take(5)"
   ]
  },
  {
   "cell_type": "code",
   "execution_count": 26,
   "metadata": {},
   "outputs": [],
   "source": [
    "from pyspark.sql import Row\n",
    "\n",
    "\n",
    "ratings_df = ratings \\\n",
    "    .map(lambda s: s.split(',')) \\\n",
    "    .filter(lambda arr: arr[0].isdigit()) \\\n",
    "    .map(lambda arr: Row(user_id=int(arr[0]), \n",
    "                         movie_id=int(arr[1]), \n",
    "                         rating=float(arr[2]), \n",
    "                         timestamp=int(arr[3])))\\\n",
    "    .toDF()"
   ]
  },
  {
   "cell_type": "code",
   "execution_count": 27,
   "metadata": {},
   "outputs": [
    {
     "name": "stdout",
     "output_type": "stream",
     "text": [
      "root\n",
      " |-- movie_id: long (nullable = true)\n",
      " |-- rating: double (nullable = true)\n",
      " |-- timestamp: long (nullable = true)\n",
      " |-- user_id: long (nullable = true)\n",
      "\n"
     ]
    }
   ],
   "source": [
    "ratings_df.printSchema()"
   ]
  },
  {
   "cell_type": "markdown",
   "metadata": {},
   "source": [
    "---\n",
    "## DataFrame API"
   ]
  },
  {
   "cell_type": "code",
   "execution_count": 5,
   "metadata": {},
   "outputs": [],
   "source": [
    "import pyspark.sql.functions as F\n",
    "\n",
    "\n",
    "movies_df = sqlContext.read.format(\"com.databricks.spark.csv\") \\\n",
    "    .option(\"delimiter\", \",\") \\\n",
    "    .option(\"header\", \"true\") \\\n",
    "    .option(\"inferSchema\", \"true\") \\\n",
    "    .load('file:///' + MOVIES_PATH)"
   ]
  },
  {
   "cell_type": "code",
   "execution_count": 29,
   "metadata": {},
   "outputs": [
    {
     "name": "stdout",
     "output_type": "stream",
     "text": [
      "root\n",
      " |-- movieId: integer (nullable = true)\n",
      " |-- title: string (nullable = true)\n",
      " |-- genres: string (nullable = true)\n",
      "\n"
     ]
    }
   ],
   "source": [
    "movies_df.printSchema()"
   ]
  },
  {
   "cell_type": "markdown",
   "metadata": {},
   "source": [
    "### Фильмы с наибольшим средним рейтингом\n",
    "\n",
    "Найти 10 фильмов с наибольшим средним рейтингом. Вывести их названия и средний рейтинг.\n",
    "\n",
    "Сравните код ниже с кодом, использующим RDD API (см. `apache_spark/notebooks/spark_examples.ipynb`):\n",
    "\n",
    "```\n",
    "ratings \\\n",
    "    .map(lambda r: (r.movie_id, (r.rating, 1))) \\\n",
    "    .reduceByKey(lambda a, b: (a[0] + b[0], a[1] + b[1])) \\\n",
    "    .mapValues(lambda ratings: ratings[0] / ratings[1]) \\\n",
    "    .join(movies) \\\n",
    "    .sortBy(lambda key_value: key_value[1][0], ascending=False) \\\n",
    "    .take(10)\n",
    "```"
   ]
  },
  {
   "cell_type": "code",
   "execution_count": 30,
   "metadata": {},
   "outputs": [
    {
     "data": {
      "text/plain": [
       "[Row(movie_id=173147, mean_rating=5.0, ratings_count=1, movieId=173147, title='My Stepdaughter (2015)', genres='Thriller'),\n",
       " Row(movie_id=123445, mean_rating=5.0, ratings_count=1, movieId=123445, title='A Killing in a Small Town (1990)', genres='Drama'),\n",
       " Row(movie_id=144200, mean_rating=5.0, ratings_count=1, movieId=144200, title='Lonely Boy (2013)', genres='Comedy|Drama'),\n",
       " Row(movie_id=137256, mean_rating=5.0, ratings_count=1, movieId=137256, title='Missing (2009)', genres='Thriller'),\n",
       " Row(movie_id=145232, mean_rating=5.0, ratings_count=1, movieId=145232, title='Million Dollar Crocodile (2012)', genres='Crime|Drama|Horror|Thriller'),\n",
       " Row(movie_id=95494, mean_rating=5.0, ratings_count=1, movieId=95494, title='Joffrey: Mavericks of American Dance (2012)', genres='Documentary'),\n",
       " Row(movie_id=179567, mean_rating=5.0, ratings_count=1, movieId=179567, title='Change of Plans (2011)', genres='Children|Comedy|Drama'),\n",
       " Row(movie_id=186119, mean_rating=5.0, ratings_count=1, movieId=186119, title='A Gift Horse (2015)', genres='Children'),\n",
       " Row(movie_id=160592, mean_rating=5.0, ratings_count=1, movieId=160592, title='Shocking Blue (2010)', genres='Drama'),\n",
       " Row(movie_id=208265, mean_rating=5.0, ratings_count=1, movieId=208265, title='Rolli and the Golden Key (2013)', genres='Adventure')]"
      ]
     },
     "execution_count": 30,
     "metadata": {},
     "output_type": "execute_result"
    }
   ],
   "source": [
    "ratings_df \\\n",
    "    .groupby('movie_id') \\\n",
    "    .agg(F.mean('rating').alias('mean_rating'), \n",
    "         F.count('rating').alias('ratings_count')) \\\n",
    "    .join(movies_df, ratings_df['movie_id'] == movies_df['movieId'], how='inner') \\\n",
    "    .sort(F.col('mean_rating').desc()) \\\n",
    "    .take(10)"
   ]
  },
  {
   "cell_type": "markdown",
   "metadata": {},
   "source": [
    "### Фильмы с наибольшим числом оценок\n",
    "\n",
    "Найти 10 фильмов с наибольшим числом оценок. Вывести их названия и число оценок"
   ]
  },
  {
   "cell_type": "code",
   "execution_count": 34,
   "metadata": {},
   "outputs": [
    {
     "name": "stdout",
     "output_type": "stream",
     "text": [
      "root\n",
      " |-- movie_id: long (nullable = true)\n",
      " |-- rating: double (nullable = true)\n",
      " |-- timestamp: long (nullable = true)\n",
      " |-- user_id: long (nullable = true)\n",
      "\n"
     ]
    }
   ],
   "source": [
    "ratings_df.printSchema()"
   ]
  },
  {
   "cell_type": "code",
   "execution_count": 36,
   "metadata": {},
   "outputs": [
    {
     "data": {
      "text/plain": [
       "[Row(movie_id=296, rating=5.0, timestamp=1147880044, user_id=1),\n",
       " Row(movie_id=306, rating=3.5, timestamp=1147868817, user_id=1),\n",
       " Row(movie_id=307, rating=5.0, timestamp=1147868828, user_id=1),\n",
       " Row(movie_id=665, rating=5.0, timestamp=1147878820, user_id=1),\n",
       " Row(movie_id=899, rating=3.5, timestamp=1147868510, user_id=1),\n",
       " Row(movie_id=1088, rating=4.0, timestamp=1147868495, user_id=1)]"
      ]
     },
     "execution_count": 36,
     "metadata": {},
     "output_type": "execute_result"
    }
   ],
   "source": [
    "ratings_df.take(6)"
   ]
  },
  {
   "cell_type": "code",
   "execution_count": 37,
   "metadata": {},
   "outputs": [],
   "source": [
    "movies_frequency_pdf = ratings_df \\\n",
    "    .groupby('movie_id') \\\n",
    "    .count() \\\n",
    "    .join(movies_df, ratings_df['movie_id'] == movies_df['movieId']) \\\n",
    "    .sort(F.col('count').desc()) \\\n",
    "    .toPandas()"
   ]
  },
  {
   "cell_type": "code",
   "execution_count": 38,
   "metadata": {},
   "outputs": [
    {
     "data": {
      "text/html": [
       "<div>\n",
       "<style scoped>\n",
       "    .dataframe tbody tr th:only-of-type {\n",
       "        vertical-align: middle;\n",
       "    }\n",
       "\n",
       "    .dataframe tbody tr th {\n",
       "        vertical-align: top;\n",
       "    }\n",
       "\n",
       "    .dataframe thead th {\n",
       "        text-align: right;\n",
       "    }\n",
       "</style>\n",
       "<table border=\"1\" class=\"dataframe\">\n",
       "  <thead>\n",
       "    <tr style=\"text-align: right;\">\n",
       "      <th></th>\n",
       "      <th>movie_id</th>\n",
       "      <th>count</th>\n",
       "      <th>movieId</th>\n",
       "      <th>title</th>\n",
       "      <th>genres</th>\n",
       "    </tr>\n",
       "  </thead>\n",
       "  <tbody>\n",
       "    <tr>\n",
       "      <th>0</th>\n",
       "      <td>356</td>\n",
       "      <td>81491</td>\n",
       "      <td>356</td>\n",
       "      <td>Forrest Gump (1994)</td>\n",
       "      <td>Comedy|Drama|Romance|War</td>\n",
       "    </tr>\n",
       "    <tr>\n",
       "      <th>1</th>\n",
       "      <td>318</td>\n",
       "      <td>81482</td>\n",
       "      <td>318</td>\n",
       "      <td>Shawshank Redemption, The (1994)</td>\n",
       "      <td>Crime|Drama</td>\n",
       "    </tr>\n",
       "    <tr>\n",
       "      <th>2</th>\n",
       "      <td>296</td>\n",
       "      <td>79672</td>\n",
       "      <td>296</td>\n",
       "      <td>Pulp Fiction (1994)</td>\n",
       "      <td>Comedy|Crime|Drama|Thriller</td>\n",
       "    </tr>\n",
       "    <tr>\n",
       "      <th>3</th>\n",
       "      <td>593</td>\n",
       "      <td>74127</td>\n",
       "      <td>593</td>\n",
       "      <td>Silence of the Lambs, The (1991)</td>\n",
       "      <td>Crime|Horror|Thriller</td>\n",
       "    </tr>\n",
       "    <tr>\n",
       "      <th>4</th>\n",
       "      <td>2571</td>\n",
       "      <td>72674</td>\n",
       "      <td>2571</td>\n",
       "      <td>Matrix, The (1999)</td>\n",
       "      <td>Action|Sci-Fi|Thriller</td>\n",
       "    </tr>\n",
       "    <tr>\n",
       "      <th>5</th>\n",
       "      <td>260</td>\n",
       "      <td>68717</td>\n",
       "      <td>260</td>\n",
       "      <td>Star Wars: Episode IV - A New Hope (1977)</td>\n",
       "      <td>Action|Adventure|Sci-Fi</td>\n",
       "    </tr>\n",
       "    <tr>\n",
       "      <th>6</th>\n",
       "      <td>480</td>\n",
       "      <td>64144</td>\n",
       "      <td>480</td>\n",
       "      <td>Jurassic Park (1993)</td>\n",
       "      <td>Action|Adventure|Sci-Fi|Thriller</td>\n",
       "    </tr>\n",
       "    <tr>\n",
       "      <th>7</th>\n",
       "      <td>527</td>\n",
       "      <td>60411</td>\n",
       "      <td>527</td>\n",
       "      <td>Schindler's List (1993)</td>\n",
       "      <td>Drama|War</td>\n",
       "    </tr>\n",
       "    <tr>\n",
       "      <th>8</th>\n",
       "      <td>110</td>\n",
       "      <td>59184</td>\n",
       "      <td>110</td>\n",
       "      <td>Braveheart (1995)</td>\n",
       "      <td>Action|Drama|War</td>\n",
       "    </tr>\n",
       "    <tr>\n",
       "      <th>9</th>\n",
       "      <td>2959</td>\n",
       "      <td>58773</td>\n",
       "      <td>2959</td>\n",
       "      <td>Fight Club (1999)</td>\n",
       "      <td>Action|Crime|Drama|Thriller</td>\n",
       "    </tr>\n",
       "  </tbody>\n",
       "</table>\n",
       "</div>"
      ],
      "text/plain": [
       "   movie_id  count  movieId                                      title  \\\n",
       "0       356  81491      356                        Forrest Gump (1994)   \n",
       "1       318  81482      318           Shawshank Redemption, The (1994)   \n",
       "2       296  79672      296                        Pulp Fiction (1994)   \n",
       "3       593  74127      593           Silence of the Lambs, The (1991)   \n",
       "4      2571  72674     2571                         Matrix, The (1999)   \n",
       "5       260  68717      260  Star Wars: Episode IV - A New Hope (1977)   \n",
       "6       480  64144      480                       Jurassic Park (1993)   \n",
       "7       527  60411      527                    Schindler's List (1993)   \n",
       "8       110  59184      110                          Braveheart (1995)   \n",
       "9      2959  58773     2959                          Fight Club (1999)   \n",
       "\n",
       "                             genres  \n",
       "0          Comedy|Drama|Romance|War  \n",
       "1                       Crime|Drama  \n",
       "2       Comedy|Crime|Drama|Thriller  \n",
       "3             Crime|Horror|Thriller  \n",
       "4            Action|Sci-Fi|Thriller  \n",
       "5           Action|Adventure|Sci-Fi  \n",
       "6  Action|Adventure|Sci-Fi|Thriller  \n",
       "7                         Drama|War  \n",
       "8                  Action|Drama|War  \n",
       "9       Action|Crime|Drama|Thriller  "
      ]
     },
     "execution_count": 38,
     "metadata": {},
     "output_type": "execute_result"
    }
   ],
   "source": [
    "movies_frequency_pdf.head(10)"
   ]
  },
  {
   "cell_type": "markdown",
   "metadata": {},
   "source": [
    "---\n",
    "## SQL"
   ]
  },
  {
   "cell_type": "code",
   "execution_count": 39,
   "metadata": {},
   "outputs": [],
   "source": [
    "ratings_df.createTempView('ratings')\n",
    "movies_df.createTempView('movies')"
   ]
  },
  {
   "cell_type": "code",
   "execution_count": 40,
   "metadata": {},
   "outputs": [
    {
     "name": "stdout",
     "output_type": "stream",
     "text": [
      "+--------+--------+--------------------+\n",
      "|movie_id|count(1)|               title|\n",
      "+--------+--------+--------------------+\n",
      "|     356|   81491| Forrest Gump (1994)|\n",
      "|     318|   81482|Shawshank Redempt...|\n",
      "|     296|   79672| Pulp Fiction (1994)|\n",
      "|     364|   42745|Lion King, The (1...|\n",
      "|     380|   41673|    True Lies (1994)|\n",
      "|     377|   41302|        Speed (1994)|\n",
      "|     344|   37453|Ace Ventura: Pet ...|\n",
      "|     367|   34621|    Mask, The (1994)|\n",
      "|     293|   33680|Léon: The Profess...|\n",
      "|     231|   31843|Dumb & Dumber (Du...|\n",
      "|     316|   30910|     Stargate (1994)|\n",
      "|     349|   27766|Clear and Present...|\n",
      "|     253|   27577|Interview with th...|\n",
      "|     357|   26709|Four Weddings and...|\n",
      "|     329|   24615|Star Trek: Genera...|\n",
      "|     223|   24050|       Clerks (1994)|\n",
      "|     288|   23259|Natural Born Kill...|\n",
      "|     300|   18997|    Quiz Show (1994)|\n",
      "|     368|   16475|     Maverick (1994)|\n",
      "|     353|   16219|    Crow, The (1994)|\n",
      "+--------+--------+--------------------+\n",
      "only showing top 20 rows\n",
      "\n"
     ]
    }
   ],
   "source": [
    "query = \"\"\"\n",
    "    SELECT movie_id, COUNT(*), first(title) as title\n",
    "    FROM ratings INNER JOIN movies ON ratings.movie_id == movies.movieId\n",
    "    WHERE movies.title LIKE '%(1994)%'\n",
    "    GROUP BY movie_id\n",
    "    ORDER BY COUNT(*) DESC\n",
    "\"\"\"\n",
    "\n",
    "movies_frequency = spark.sql(query)\n",
    "movies_frequency.show()"
   ]
  },
  {
   "cell_type": "code",
   "execution_count": 41,
   "metadata": {
    "scrolled": false
   },
   "outputs": [
    {
     "name": "stdout",
     "output_type": "stream",
     "text": [
      "== Parsed Logical Plan ==\n",
      "'Sort ['COUNT(1) DESC NULLS LAST], true\n",
      "+- 'Aggregate ['movie_id], ['movie_id, unresolvedalias('COUNT(1), None), first('title, false) AS title#159]\n",
      "   +- 'Filter 'movies.title LIKE %(1994)%\n",
      "      +- 'Join Inner, ('ratings.movie_id = 'movies.movieId)\n",
      "         :- 'UnresolvedRelation `ratings`\n",
      "         +- 'UnresolvedRelation `movies`\n",
      "\n",
      "== Analyzed Logical Plan ==\n",
      "movie_id: bigint, count(1): bigint, title: string\n",
      "Project [movie_id#12L, count(1)#162L, title#159]\n",
      "+- Sort [count(1)#162L DESC NULLS LAST], true\n",
      "   +- Aggregate [movie_id#12L], [movie_id#12L, count(1) AS count(1)#162L, first(title#31, false) AS title#159]\n",
      "      +- Filter title#31 LIKE %(1994)%\n",
      "         +- Join Inner, (movie_id#12L = cast(movieId#30 as bigint))\n",
      "            :- SubqueryAlias `ratings`\n",
      "            :  +- LogicalRDD [movie_id#12L, rating#13, timestamp#14L, user_id#15L], false\n",
      "            +- SubqueryAlias `movies`\n",
      "               +- Relation[movieId#30,title#31,genres#32] csv\n",
      "\n",
      "== Optimized Logical Plan ==\n",
      "Sort [count(1)#162L DESC NULLS LAST], true\n",
      "+- Aggregate [movie_id#12L], [movie_id#12L, count(1) AS count(1)#162L, first(title#31, false) AS title#159]\n",
      "   +- Project [movie_id#12L, title#31]\n",
      "      +- Join Inner, (movie_id#12L = cast(movieId#30 as bigint))\n",
      "         :- Project [movie_id#12L]\n",
      "         :  +- Filter isnotnull(movie_id#12L)\n",
      "         :     +- LogicalRDD [movie_id#12L, rating#13, timestamp#14L, user_id#15L], false\n",
      "         +- Project [movieId#30, title#31]\n",
      "            +- Filter ((isnotnull(title#31) && Contains(title#31, (1994))) && isnotnull(movieId#30))\n",
      "               +- Relation[movieId#30,title#31,genres#32] csv\n",
      "\n",
      "== Physical Plan ==\n",
      "*(4) Sort [count(1)#162L DESC NULLS LAST], true, 0\n",
      "+- Exchange rangepartitioning(count(1)#162L DESC NULLS LAST, 200)\n",
      "   +- SortAggregate(key=[movie_id#12L], functions=[count(1), first(title#31, false)], output=[movie_id#12L, count(1)#162L, title#159])\n",
      "      +- *(3) Sort [movie_id#12L ASC NULLS FIRST], false, 0\n",
      "         +- Exchange hashpartitioning(movie_id#12L, 200)\n",
      "            +- SortAggregate(key=[movie_id#12L], functions=[partial_count(1), partial_first(title#31, false)], output=[movie_id#12L, count#170L, first#171, valueSet#172])\n",
      "               +- *(2) Sort [movie_id#12L ASC NULLS FIRST], false, 0\n",
      "                  +- *(2) Project [movie_id#12L, title#31]\n",
      "                     +- *(2) BroadcastHashJoin [movie_id#12L], [cast(movieId#30 as bigint)], Inner, BuildRight\n",
      "                        :- *(2) Project [movie_id#12L]\n",
      "                        :  +- *(2) Filter isnotnull(movie_id#12L)\n",
      "                        :     +- Scan ExistingRDD[movie_id#12L,rating#13,timestamp#14L,user_id#15L]\n",
      "                        +- BroadcastExchange HashedRelationBroadcastMode(List(cast(input[0, int, true] as bigint)))\n",
      "                           +- *(1) Project [movieId#30, title#31]\n",
      "                              +- *(1) Filter ((isnotnull(title#31) && Contains(title#31, (1994))) && isnotnull(movieId#30))\n",
      "                                 +- *(1) FileScan csv [movieId#30,title#31] Batched: false, Format: CSV, Location: InMemoryFileIndex[file:/workspace/apache_spark/notebooks/data/ml-25m/movies.csv], PartitionFilters: [], PushedFilters: [IsNotNull(title), StringContains(title,(1994)), IsNotNull(movieId)], ReadSchema: struct<movieId:int,title:string>\n"
     ]
    }
   ],
   "source": [
    "spark.sql(query).explain(True)"
   ]
  },
  {
   "cell_type": "markdown",
   "metadata": {},
   "source": [
    "---\n",
    "## User Defined Function (UDF)\n",
    "\n",
    "\n",
    "### Количество вышедших фильмов по годам\n",
    "\n",
    "Мы знаем, что название фильма содержит информацию о дате выхода"
   ]
  },
  {
   "cell_type": "code",
   "execution_count": 42,
   "metadata": {},
   "outputs": [],
   "source": [
    "import re\n",
    "\n",
    "\n",
    "def get_release_year(title):\n",
    "    result = re.match(r'.*(\\(\\d+\\))', title)\n",
    "    return int(result.group(1)[1:-1]) if result is not None else None\n",
    "\n",
    "\n",
    "get_release_year_udf = F.udf(get_release_year, IntegerType())"
   ]
  },
  {
   "cell_type": "code",
   "execution_count": 46,
   "metadata": {},
   "outputs": [],
   "source": [
    "relase_count_by_year = movies_df \\\n",
    "    .withColumn('year', get_release_year_udf('title')) \\\n",
    "    .filter(F.col('year').isNotNull()) \\\n",
    "    .groupby('year') \\\n",
    "    .count() \\\n",
    "    .toPandas()"
   ]
  },
  {
   "cell_type": "code",
   "execution_count": 51,
   "metadata": {},
   "outputs": [
    {
     "data": {
      "image/png": "[encoded data removed]",
      "text/plain": [
       "<Figure size 864x360 with 1 Axes>"
      ]
     },
     "metadata": {
      "image/png": {
       "height": 317,
       "width": 718
      },
      "needs_background": "light"
     },
     "output_type": "display_data"
    }
   ],
   "source": [
    "plt.figure(figsize=(12, 5))\n",
    "relase_count_by_year.sort_values('year').set_index('year')['count'].plot()\n",
    "plt.show()"
   ]
  },
  {
   "cell_type": "markdown",
   "metadata": {},
   "source": [
    "---\n",
    "## Window Functions\n",
    "\n",
    "Хотим понять, сколько времени проходит между последовательными оценками для пользователей, более формально:\n",
    "\n",
    "Для пользователя $u$ есть последовательность $(m_1, r_1, t_1), \\ldots, (m_n, r_n, t_n)$, где $t_i \\leq t_{i+1}$. Рассмотрим последовательность $\\Delta_i = t_{i+1} - t_i$, для $i=1,\\ldots,n-1$.\n",
    "\n",
    "Хотим построить распределение величины $\\Delta_i$ используя информацию обо всех пользователях."
   ]
  },
  {
   "cell_type": "code",
   "execution_count": 58,
   "metadata": {},
   "outputs": [
    {
     "data": {
      "text/plain": [
       "[Row(movie_id=2161, rating=3.5, timestamp=1280513623, user_id=26, next_timestamp=1280513649),\n",
       " Row(movie_id=455, rating=3.0, timestamp=1280513649, user_id=26, next_timestamp=1280513679),\n",
       " Row(movie_id=1037, rating=2.5, timestamp=1280513679, user_id=26, next_timestamp=1280513702),\n",
       " Row(movie_id=1586, rating=3.0, timestamp=1280513702, user_id=26, next_timestamp=1280513710),\n",
       " Row(movie_id=54286, rating=4.0, timestamp=1280513710, user_id=26, next_timestamp=1280513785),\n",
       " Row(movie_id=4023, rating=3.0, timestamp=1280513785, user_id=26, next_timestamp=1280513802),\n",
       " Row(movie_id=54503, rating=2.0, timestamp=1280513802, user_id=26, next_timestamp=1280513817),\n",
       " Row(movie_id=3173, rating=3.5, timestamp=1280513817, user_id=26, next_timestamp=1280513893),\n",
       " Row(movie_id=53322, rating=4.0, timestamp=1280513893, user_id=26, next_timestamp=1280513897),\n",
       " Row(movie_id=2764, rating=4.5, timestamp=1280513897, user_id=26, next_timestamp=1280513931)]"
      ]
     },
     "execution_count": 58,
     "metadata": {},
     "output_type": "execute_result"
    }
   ],
   "source": [
    "from pyspark.sql.window import Window\n",
    "\n",
    "\n",
    "user_window = Window.orderBy('timestamp').partitionBy('user_id')\n",
    "\n",
    "ratings_df \\\n",
    "    .withColumn('next_timestamp', F.lead('timestamp').over(user_window)) \\\n",
    "    .filter(F.col('next_timestamp').isNotNull()) \\\n",
    "    .take(10)"
   ]
  },
  {
   "cell_type": "code",
   "execution_count": 59,
   "metadata": {},
   "outputs": [
    {
     "data": {
      "text/plain": [
       "<matplotlib.axes._subplots.AxesSubplot at 0x7f65907a8668>"
      ]
     },
     "execution_count": 59,
     "metadata": {},
     "output_type": "execute_result"
    },
    {
     "data": {
      "image/png": "[encoded data removed]",
      "text/plain": [
       "<Figure size 432x288 with 1 Axes>"
      ]
     },
     "metadata": {
      "image/png": {
       "height": 250,
       "width": 389
      },
      "needs_background": "light"
     },
     "output_type": "display_data"
    }
   ],
   "source": [
    "DAY = 24 * 60 * 60\n",
    "\n",
    "ratings_df \\\n",
    "    .withColumn('next_timestamp', F.lead('timestamp').over(user_window)) \\\n",
    "    .filter(F.col('next_timestamp').isNotNull()) \\\n",
    "    .withColumn('delta', (F.col('next_timestamp') - F.col('timestamp')) / F.lit(DAY)) \\\n",
    "    .select('delta') \\\n",
    "    .filter(F.col('delta') <= 365) \\\n",
    "    .sample(False, 0.1) \\\n",
    "    .toPandas().plot.hist(bins=100, logy=True)"
   ]
  },
  {
   "cell_type": "code",
   "execution_count": 60,
   "metadata": {},
   "outputs": [],
   "source": [
    "movies_df = sqlContext.read.format(\"com.databricks.spark.csv\") \\\n",
    "    .option(\"delimiter\", \",\") \\\n",
    "    .option(\"header\", \"true\") \\\n",
    "    .option(\"inferSchema\", \"true\") \\\n",
    "    .load('file:///' + MOVIES_PATH)"
   ]
  },
  {
   "cell_type": "code",
   "execution_count": 63,
   "metadata": {},
   "outputs": [
    {
     "data": {
      "text/plain": [
       "[Row(movieId=1, title='Toy Story (1995)', genres='Adventure|Animation|Children|Comedy|Fantasy'),\n",
       " Row(movieId=2, title='Jumanji (1995)', genres='Adventure|Children|Fantasy')]"
      ]
     },
     "execution_count": 63,
     "metadata": {},
     "output_type": "execute_result"
    }
   ],
   "source": [
    "movies_df.take(2)"
   ]
  },
  {
   "cell_type": "code",
   "execution_count": 61,
   "metadata": {},
   "outputs": [],
   "source": [
    "ratings_df = sqlContext.read.format(\"com.databricks.spark.csv\") \\\n",
    "    .option(\"delimiter\", \",\") \\\n",
    "    .option(\"header\", \"true\") \\\n",
    "    .option(\"inferSchema\", \"true\") \\\n",
    "    .load('file:///' + RATINGS_PATH)"
   ]
  },
  {
   "cell_type": "code",
   "execution_count": 64,
   "metadata": {},
   "outputs": [
    {
     "data": {
      "text/plain": [
       "[Row(userId=1, movieId=296, rating=5.0, timestamp=1147880044),\n",
       " Row(userId=1, movieId=306, rating=3.5, timestamp=1147868817)]"
      ]
     },
     "execution_count": 64,
     "metadata": {},
     "output_type": "execute_result"
    }
   ],
   "source": [
    "ratings_df.take(2)"
   ]
  },
  {
   "cell_type": "code",
   "execution_count": 62,
   "metadata": {},
   "outputs": [],
   "source": [
    "tags_df = sqlContext.read.format(\"com.databricks.spark.csv\") \\\n",
    "    .option(\"delimiter\", \",\") \\\n",
    "    .option(\"header\", \"true\") \\\n",
    "    .option(\"inferSchema\", \"true\") \\\n",
    "    .load('file:///' + TAGS_PATH)"
   ]
  },
  {
   "cell_type": "code",
   "execution_count": 65,
   "metadata": {},
   "outputs": [
    {
     "data": {
      "text/plain": [
       "[Row(userId=3, movieId=260, tag='classic', timestamp='1439472355'),\n",
       " Row(userId=3, movieId=260, tag='sci-fi', timestamp='1439472256')]"
      ]
     },
     "execution_count": 65,
     "metadata": {},
     "output_type": "execute_result"
    }
   ],
   "source": [
    "tags_df.take(2)"
   ]
  },
  {
   "cell_type": "markdown",
   "metadata": {},
   "source": [
    "---\n",
    "# Упражнения. Recommender System\n",
    "\n",
    "Пусть $U$ - множество пользователей, $I$ - множество фильмов, и $R = (r_{ui})$ - матрица рейтингов. \n",
    "\n",
    "Через $R_u$ будем обозначать строку матрицы $R$, соотвествующую пользователю $u$.\n",
    "\n",
    "## Most similar items\n",
    "\n",
    "Для каждого фильма $i$ определим множество $U(i) = \\{ u \\in U \\mid r_{ui} \\neq 0 \\}$ - множество пользователей, поставивших фильму $i$ оценку.\n",
    "\n",
    "Тогда мы можем определить множество $I(i) = \\left\\{ i' \\in I ~\\Big|~ sim(i, i') = \\frac{|U(i) ~\\cap~ U(i')|}{|U(i) ~\\cup~ U(i')|} > \\delta \\right\\}$ - множество похожих фильмов.\n",
    "\n",
    "Можно отсортировать элементы множества $I(i)$ по неубыванию $sim(i, i')$.\n",
    "\n",
    "Реализуйте функцию, которая на вход получает `movie_id` и возвращает топ `N` фильмов отранжированных по $sim$."
   ]
  },
  {
   "cell_type": "code",
   "execution_count": 6,
   "metadata": {},
   "outputs": [],
   "source": [
    "ratings_df = sqlContext.read.format(\"com.databricks.spark.csv\") \\\n",
    "    .option(\"delimiter\", \",\") \\\n",
    "    .option(\"header\", \"true\") \\\n",
    "    .option(\"inferSchema\", \"true\") \\\n",
    "    .load('file:///' + RATINGS_PATH)"
   ]
  },
  {
   "cell_type": "code",
   "execution_count": 195,
   "metadata": {},
   "outputs": [],
   "source": [
    "def most_similar_items(movie_id, N):\n",
    "    \n",
    "    df = ratings_df.drop('timestamp', 'rating')\n",
    "    \n",
    "    df_m = df.filter(F.col('movieId') == movie_id)\\\n",
    "        .withColumnRenamed(\"movieId\", \"movieId_m\")\n",
    "    \n",
    "    users_m = df_m.count()\n",
    "    \n",
    "    all_mvs = df.join(df_m, on='userId', how='left')\\\n",
    "        .groupby('movieId').count()\\\n",
    "        .withColumnRenamed(\"count\", \"all_cnt\")\n",
    "    \n",
    "    intercs_mvs = df.join(df_m, on='userId', how='left')\\\n",
    "        .dropna().groupby('movieId').count()\\\n",
    "        .withColumnRenamed(\"count\", \"inter_cnt\")\n",
    "    \n",
    "    df_sim = all_mvs.join(intercs_mvs, on='movieId', how='left')\\\n",
    "        .fillna(0)\n",
    "    \n",
    "    res = df_sim.withColumn('m_similarity', \n",
    "                      F.col('inter_cnt') / (F.col('all_cnt') + F.lit(users_m) - F.col('inter_cnt'))\n",
    "                     )\\\n",
    "        .sort('m_similarity', ascending=False)\\\n",
    "        .head(N)\n",
    "    \n",
    "    res = spark.createDataFrame(res)\\\n",
    "        .join(movies_df, on='movieId', how='left')\n",
    "    \n",
    "    return res"
   ]
  },
  {
   "cell_type": "code",
   "execution_count": 172,
   "metadata": {},
   "outputs": [
    {
     "name": "stdout",
     "output_type": "stream",
     "text": [
      "+-------+-------+---------+-------------------+--------------------+--------------------+\n",
      "|movieId|all_cnt|inter_cnt|       m_similarity|               title|              genres|\n",
      "+-------+-------+---------+-------------------+--------------------+--------------------+\n",
      "|    260|  68717|    68717|                1.0|Star Wars: Episod...|Action|Adventure|...|\n",
      "|   1196|  57361|    50399| 0.6659575311513102|Star Wars: Episod...|Action|Adventure|...|\n",
      "|   1210|  54917|    47559| 0.6251593821886297|Star Wars: Episod...|Action|Adventure|...|\n",
      "|   1198|  54675|    42562| 0.5265619200791786|Raiders of the Lo...|    Action|Adventure|\n",
      "|   2571|  72674|    46454|0.48931396610383726|  Matrix, The (1999)|Action|Sci-Fi|Thr...|\n",
      "+-------+-------+---------+-------------------+--------------------+--------------------+\n",
      "\n"
     ]
    }
   ],
   "source": [
    "res = most_similar_items(260, 5)\n",
    "res.show()"
   ]
  },
  {
   "cell_type": "code",
   "execution_count": 177,
   "metadata": {},
   "outputs": [
    {
     "data": {
      "text/plain": [
       "[Row(title='Star Wars: Episode IV - A New Hope (1977)'),\n",
       " Row(title='Star Wars: Episode V - The Empire Strikes Back (1980)'),\n",
       " Row(title='Star Wars: Episode VI - Return of the Jedi (1983)'),\n",
       " Row(title='Raiders of the Lost Ark (Indiana Jones and the Raiders of the Lost Ark) (1981)'),\n",
       " Row(title='Matrix, The (1999)')]"
      ]
     },
     "execution_count": 177,
     "metadata": {},
     "output_type": "execute_result"
    }
   ],
   "source": [
    "res.select('title').take(5)"
   ]
  },
  {
   "cell_type": "markdown",
   "metadata": {},
   "source": [
    "Построим несколько вариантов простой Рекомендательной Системы.\n",
    "\n",
    "*Основная цель:* порекомендовать фильм пользователю. (Для простоты опустим информацию о самих рейтингах)\n",
    "\n",
    "## Methods\n",
    "\n",
    "При разработке сложных методов, сначала нужно выбрать несколько простотых методов (`Baseline`), относительно которых мы будем сравнивать новый метод.\n",
    "\n",
    "### POP\n",
    "\n",
    "Будем всегда рекомендовать самые популярные фильмы (с наибольшим цислом оценок пользователей).\n",
    "\n",
    "Не смотря на свою простоту, в ряде задач показывает себя достаточно хорошо."
   ]
  },
  {
   "cell_type": "code",
   "execution_count": 178,
   "metadata": {},
   "outputs": [],
   "source": [
    "ratings_df = sqlContext.read.format(\"com.databricks.spark.csv\") \\\n",
    "    .option(\"delimiter\", \",\") \\\n",
    "    .option(\"header\", \"true\") \\\n",
    "    .option(\"inferSchema\", \"true\") \\\n",
    "    .load('file:///' + RATINGS_PATH)"
   ]
  },
  {
   "cell_type": "code",
   "execution_count": 268,
   "metadata": {},
   "outputs": [],
   "source": [
    "def get_pop(ratings_df, usr_id, N):\n",
    "    \n",
    "    seen = [int(x) for x in ratings_df\\\n",
    "        .filter(F.col('userId') == F.lit(usr_id))\\\n",
    "        .select(F.col('movieId'))\\\n",
    "        .toPandas()['movieId'].values]\n",
    "    \n",
    "    res = ratings_df.groupby('movieId').count()\\\n",
    "        .sort('count', ascending=False)\\\n",
    "        .filter(~F.col('movieId').isin(seen))\\\n",
    "        .take(10)\n",
    "    \n",
    "    res = spark.createDataFrame(res)\\\n",
    "        .join(movies_df, on='movieId', how='left')\n",
    "    \n",
    "    return res"
   ]
  },
  {
   "cell_type": "code",
   "execution_count": 251,
   "metadata": {},
   "outputs": [
    {
     "name": "stdout",
     "output_type": "stream",
     "text": [
      "+-------+-----+--------------------+--------------------+\n",
      "|movieId|count|               title|              genres|\n",
      "+-------+-----+--------------------+--------------------+\n",
      "|    356|81491| Forrest Gump (1994)|Comedy|Drama|Roma...|\n",
      "|    318|81482|Shawshank Redempt...|         Crime|Drama|\n",
      "|    593|74127|Silence of the La...|Crime|Horror|Thri...|\n",
      "|   2571|72674|  Matrix, The (1999)|Action|Sci-Fi|Thr...|\n",
      "|    260|68717|Star Wars: Episod...|Action|Adventure|...|\n",
      "|    480|64144|Jurassic Park (1993)|Action|Adventure|...|\n",
      "|    527|60411|Schindler's List ...|           Drama|War|\n",
      "|    110|59184|   Braveheart (1995)|    Action|Drama|War|\n",
      "|   2959|58773|   Fight Club (1999)|Action|Crime|Dram...|\n",
      "|    589|57379|Terminator 2: Jud...|       Action|Sci-Fi|\n",
      "+-------+-----+--------------------+--------------------+\n",
      "\n"
     ]
    }
   ],
   "source": [
    "get_pop(ratings_df, 1, 10).show()"
   ]
  },
  {
   "cell_type": "markdown",
   "metadata": {},
   "source": [
    "### User-based Collaborative Filtering\n",
    "\n",
    "1. Для пользователя $u$ определим множество похожих пользователей как \n",
    "\n",
    "$$U(u) = \\left\\{ u' \\in U \\mid sim(u, u') > \\alpha \\right\\},$$\n",
    "\n",
    "где $sim(u, u')$ — одна из возможных мер близости $u'$ к $u$, например, косинусная близость между $R_{u}$ и $R_{u'}$\n",
    "\n",
    "2. $$I(u) = \\left\\{ i \\in I ~\\Big|~ B(i) = \\frac{|U(u) ~\\cap~ U(i)|}{|U(u) ~\\cup~ U(i)|} > 0 \\right\\}$$\n",
    "\n",
    "\n",
    "3. Отсортировать $i \\in I(u)$ по убыванию $B(i)$, взять top $N$"
   ]
  },
  {
   "cell_type": "code",
   "execution_count": 313,
   "metadata": {},
   "outputs": [],
   "source": [
    "def get_cosine_dist(ratings_df, usr_id):\n",
    "    \n",
    "    norm_A = ratings_df\\\n",
    "        .filter(F.col('userId') == F.lit(usr_id))\\\n",
    "        .withColumn('rating**2', F.col('rating') * F.col('rating'))\\\n",
    "        .select(F.sqrt(F.sum(F.col('rating**2'))).alias('res')).take(1)[0]['res']\n",
    "\n",
    "    norm_B = ratings_df\\\n",
    "        .withColumn('rating**2', F.col('rating') * F.col('rating'))\\\n",
    "        .groupBy('userId')\\\n",
    "        .agg(F.sum(F.col('rating**2')).alias('squared_sum'))\\\n",
    "        .withColumn('norm_B', F.sqrt(F.col('squared_sum')))\n",
    "\n",
    "    dotproduct_AB = ratings_df\\\n",
    "        .join(\n",
    "            ratings_df.filter(F.col('userId') == F.lit(usr_id))\\\n",
    "                .withColumnRenamed('rating', 'rating2')\\\n",
    "                .drop('userId'),\n",
    "            on='movieId',\n",
    "            how='inner'\n",
    "             )\\\n",
    "        .withColumn('product', F.col('rating') * F.col('rating2'))\\\n",
    "        .groupBy('userId')\\\n",
    "        .agg(F.sum('product').alias('dot_product'))\n",
    "\n",
    "    cosine_dist = dotproduct_AB\\\n",
    "        .join(\n",
    "            norm_B,\n",
    "            on='userId',\n",
    "            how='left'\n",
    "        )\\\n",
    "        .withColumn('cosine_dist', F.col('dot_product') / F.col('norm_B') / F.lit(norm_A))\n",
    "    \n",
    "    return cosine_dist"
   ]
  },
  {
   "cell_type": "code",
   "execution_count": 314,
   "metadata": {},
   "outputs": [],
   "source": [
    "def get_ubcf(ratings_df, usr_id, alpha, N):\n",
    "    \n",
    "    cosine_dist = get_cosine_dist(ratings_df, usr_id)\n",
    "\n",
    "    alike = cosine_dist\\\n",
    "        .filter(F.col('cosine_dist') > F.lit(alpha))\\\n",
    "        .filter(F.col('userId') != F.lit(usr_id))\\\n",
    "        .select('userId')\n",
    "    \n",
    "    alike_cnt = alike.count()\n",
    "\n",
    "    usr_count_intersec = alike\\\n",
    "        .join(\n",
    "            ratings_df,\n",
    "            on='userID',\n",
    "            how='left'\n",
    "        )\\\n",
    "        .groupBy('movieId')\\\n",
    "        .agg(F.count(F.col('rating')).alias('usr_count_intersec'))\n",
    "\n",
    "    all_usr_count = ratings_df\\\n",
    "        .groupBy('movieId')\\\n",
    "        .agg(F.count(F.col('rating')).alias('all_usr_count'))\n",
    "\n",
    "    res = usr_count_intersec\\\n",
    "        .join(\n",
    "            all_usr_count,\n",
    "            on='movieId',\n",
    "            how='left'\n",
    "        )\\\n",
    "        .withColumn('B', F.col('usr_count_intersec') / \\\n",
    "                    (F.col('all_usr_count') - F.col('usr_count_intersec') + F.lit(alike_cnt)))\\\n",
    "        .sort(F.col('B'), ascending=False)\\\n",
    "        .select('movieId', 'B')\\\n",
    "        .head(N)\n",
    "\n",
    "    res = spark.createDataFrame(res)\\\n",
    "        .join(movies_df, on='movieId', how='left')\n",
    "    \n",
    "    return res"
   ]
  },
  {
   "cell_type": "code",
   "execution_count": null,
   "metadata": {},
   "outputs": [],
   "source": [
    "res = get_ubcf(ratings_df, usr_id=1000, alpha=0.25, N=10)"
   ]
  },
  {
   "cell_type": "code",
   "execution_count": 84,
   "metadata": {},
   "outputs": [
    {
     "name": "stdout",
     "output_type": "stream",
     "text": [
      "+-------+-------------------+--------------------+--------------------+\n",
      "|movieId|                  B|               title|              genres|\n",
      "+-------+-------------------+--------------------+--------------------+\n",
      "|   1923|0.29140991906205244|There's Something...|      Comedy|Romance|\n",
      "|   3996|0.28760540674603174|Crouching Tiger, ...|Action|Drama|Romance|\n",
      "|   1517|0.26785837057408046|Austin Powers: In...|Action|Adventure|...|\n",
      "|   2683|0.26687902272428743|Austin Powers: Th...|Action|Adventure|...|\n",
      "|   2997|0.26421006818511533|Being John Malkov...|Comedy|Drama|Fantasy|\n",
      "|   3052|0.25972006220839816|        Dogma (1999)|Adventure|Comedy|...|\n",
      "|   5349|0.25634824667472794|   Spider-Man (2002)|Action|Adventure|...|\n",
      "|   2291|0.25578664877557866|Edward Scissorhan...|Drama|Fantasy|Rom...|\n",
      "|   2115| 0.2556353646022972|Indiana Jones and...|Action|Adventure|...|\n",
      "|   3897|0.25552558627406907|Almost Famous (2000)|               Drama|\n",
      "+-------+-------------------+--------------------+--------------------+\n",
      "\n"
     ]
    }
   ],
   "source": [
    "res.show(10)"
   ]
  },
  {
   "cell_type": "markdown",
   "metadata": {},
   "source": [
    "### Item-kNN\n",
    "\n",
    "1. Для пользователя $u$ мы знаем $R(u) = \\{ i \\in I \\mid r_{ui} \\neq 0 \\} $\n",
    "\n",
    "\n",
    "2. Для каждого $i \\in R(u)$ построим $I(i)$ - множество похожих фильмов\n",
    "\n",
    "\n",
    "3. Отсортируем элементы множества $ \\bigcup_{i \\in R(u)} I(i) $, возьмем top $N$"
   ]
  },
  {
   "cell_type": "code",
   "execution_count": 340,
   "metadata": {},
   "outputs": [],
   "source": [
    "import tqdm\n",
    "\n",
    "for instance in list(tqdm.tqdm._instances):\n",
    "    tqdm.tqdm._decr_instances(instance)"
   ]
  },
  {
   "cell_type": "code",
   "execution_count": 343,
   "metadata": {},
   "outputs": [],
   "source": [
    "def get_knn(ratings_df, usr_id, base_films_sample=None, N=5):\n",
    "    \n",
    "    Ru = ratings_df\\\n",
    "        .filter(F.col('userId') == F.lit(usr_id))\\\n",
    "        .select(F.col('movieId'))\\\n",
    "        .toPandas()\n",
    "    \n",
    "    if base_films_sample:\n",
    "        Ru = Ru.sample(base_films_sample)\n",
    "        \n",
    "    sim_items = []\n",
    "    \n",
    "    for m_id in tqdm.tqdm(Ru['movieId']):\n",
    "        sim_items.append(most_similar_items(m_id, N)) \n",
    "        \n",
    "    cols = ['movieId', 'm_similarity', 'title']\n",
    "    \n",
    "    df_all_sim_items = sim_items[0]\n",
    "\n",
    "    for df in sim_items[1:]:\n",
    "        df_all_sim_items = df_all_sim_items.select(cols)\\\n",
    "            .union(df.select(cols))\n",
    "        \n",
    "    res = df_all_sim_items\\\n",
    "        .groupBy('movieId')\\\n",
    "        .agg(F.sum('m_similarity').alias('m_similarity'))\\\n",
    "        .filter(F.col('m_similarity') != F.lit(1))\\\n",
    "        .sort(F.col('m_similarity'), ascending=False)\n",
    "    \n",
    "    return res"
   ]
  },
  {
   "cell_type": "code",
   "execution_count": 205,
   "metadata": {},
   "outputs": [
    {
     "name": "stderr",
     "output_type": "stream",
     "text": [
      "100%|██████████| 5/5 [02:56<00:00, 35.22s/it]\n"
     ]
    },
    {
     "data": {
      "text/plain": [
       "DataFrame[movieId: bigint, m_similarity: double, title: string]"
      ]
     },
     "execution_count": 205,
     "metadata": {},
     "output_type": "execute_result"
    }
   ],
   "source": [
    "res = get_knn(1, base_films_sample=5)"
   ]
  },
  {
   "cell_type": "code",
   "execution_count": 132,
   "metadata": {},
   "outputs": [
    {
     "name": "stdout",
     "output_type": "stream",
     "text": [
      "+-------+-------------------+--------------------+\n",
      "|movieId|       m_similarity|               title|\n",
      "+-------+-------------------+--------------------+\n",
      "|   4886| 0.5530002465649027|Monsters, Inc. (2...|\n",
      "|   8961| 0.5129685001043043|Incredibles, The ...|\n",
      "|   4306|  0.507260842335995|        Shrek (2001)|\n",
      "|   6539|  0.497948984903696|Pirates of the Ca...|\n",
      "|   5952| 0.4266484977399628|Lord of the Rings...|\n",
      "|   7153|0.42586293146573284|Lord of the Rings...|\n",
      "|   5349|  0.425029723898014|   Spider-Man (2002)|\n",
      "|   4993| 0.4143549648162627|Lord of the Rings...|\n",
      "|   4963| 0.4076685298102981|Ocean's Eleven (2...|\n",
      "|   7938|0.36908517350157727|Winter Light (Nat...|\n",
      "+-------+-------------------+--------------------+\n",
      "only showing top 10 rows\n",
      "\n"
     ]
    }
   ],
   "source": [
    "res.show(10)"
   ]
  },
  {
   "cell_type": "markdown",
   "metadata": {},
   "source": [
    "## Evaluation Protocol\n",
    "\n",
    "Теперь опишем, как будем оценивать качество рассматриваемых методов.\n",
    "\n",
    "### Data Splits\n",
    "\n",
    "Так как в данных `ratings` есть поле `timestamp`, то для каждого пользователя отсортируем его рейтинги по времени и первые $80\\%$ рейтингов отнесем в `Train`, еще $10\\%$ в `Validation`, и остальное в `Test`.\n"
   ]
  },
  {
   "cell_type": "code",
   "execution_count": 134,
   "metadata": {},
   "outputs": [],
   "source": [
    "from pyspark.sql.window import Window"
   ]
  },
  {
   "cell_type": "code",
   "execution_count": 316,
   "metadata": {},
   "outputs": [],
   "source": [
    "W = Window.partitionBy('userId').orderBy('timestamp')\n",
    "\n",
    "train_test_rn = ratings_df\\\n",
    "    .groupBy('userId')\\\n",
    "    .agg(F.count('rating').alias('total'))\\\n",
    "    .withColumn('train_rn', F.floor(F.col('total') * F.lit(0.8)))\\\n",
    "    .withColumn('val_rn', F.floor(F.col('total') * F.lit(0.9)))\n",
    "\n",
    "cond = F.when(F.col('row_num') < F.col('train_rn'), F.lit('train'))\\\n",
    "    .otherwise(F.when(F.col('row_num') < F.col('val_rn'), F.lit('val')).otherwise(F.lit('test')))\n",
    "\n",
    "res = ratings_df\\\n",
    "    .withColumn('row_num', \n",
    "                F.row_number().over(W))\\\n",
    "    .join(\n",
    "        train_test_rn,\n",
    "        on='userId',\n",
    "        how='left'\n",
    "    )\\\n",
    "    .withColumn('group', cond)\\\n",
    "    .select(F.col('userId'), F.col('movieId'), F.col('group'), F.col('rating'))\n",
    "\n",
    "train = res\\\n",
    "    .filter(F.col('group') == F.lit('train'))\\\n",
    "    .drop('group')\n",
    "val = res\\\n",
    "    .filter(F.col('group') == F.lit('val'))\\\n",
    "    .drop('group')\n",
    "test = res\\\n",
    "    .filter(F.col('group') == F.lit('test'))\\\n",
    "    .drop('group')"
   ]
  },
  {
   "cell_type": "code",
   "execution_count": 163,
   "metadata": {},
   "outputs": [
    {
     "name": "stdout",
     "output_type": "stream",
     "text": [
      "train-val-test size in M 19.773471 2.490465 2.736159\n"
     ]
    }
   ],
   "source": [
    "print('train-val-test size in M', train.count()/1e6, val.count()/1e6, test.count()/1e6)"
   ]
  },
  {
   "cell_type": "markdown",
   "metadata": {},
   "source": [
    "### Metrics\n",
    "\n",
    "В `Test` для каждого пользователя есть `user_id, R_u`, где $R_u$ - множество фильмов, которым он поставил оценку. Для того чтобы оценить качество рассматриваемых методов будем для пользователя строить список из $N$ рекомендаций $\\hat{R}_{1\\colon N}$ и считать метрики.\n",
    "\n",
    "* $$ Precision@N = \\frac{|R_u \\cap \\hat{R}_{1\\colon N} |}{N} $$\n",
    "* $$ Recall@N = \\frac{|R_u \\cap \\hat{R}_{1\\colon N} |}{|R_u|} $$\n",
    "* $Map@N$\n",
    "\n",
    "где $N \\in \\{1,5,10\\}$\n",
    "\n",
    "https://spark.apache.org/docs/latest/mllib-evaluation-metrics.html#ranking-systems"
   ]
  },
  {
   "cell_type": "code",
   "execution_count": 366,
   "metadata": {},
   "outputs": [],
   "source": [
    "def get_precision_recall(test, predictions, N):\n",
    "    \n",
    "    users = [int(x) for x in predictions\\\n",
    "        .select(F.col('userId'))\\\n",
    "        .toPandas().drop_duplicates()['userId'].values]\n",
    "    \n",
    "\n",
    "    seen_films_count = test\\\n",
    "        .filter(F.col('userId').isin(users))\\\n",
    "        .groupBy('userId')\\\n",
    "        .agg(F.count('movieId').alias('seen_films_count'))\n",
    "\n",
    "    intersec_count = test\\\n",
    "        .join(\n",
    "            predictions,\n",
    "            on = ['movieId', 'userId'],\n",
    "            how='inner'\n",
    "        )\\\n",
    "        .groupBy('userId')\\\n",
    "        .agg(F.count('movieId').alias('intersec_count'))\n",
    "    \n",
    "    res = seen_films_count\\\n",
    "        .join(\n",
    "            intersec_count,\n",
    "            on=['userId'],\n",
    "            how='left'        \n",
    "        )\\\n",
    "        .fillna(0)\\\n",
    "        .withColumn('prec@N', F.col('intersec_count') / F.lit(N))\\\n",
    "        .withColumn('rec@N', F.col('intersec_count') / F.col('seen_films_count'))\n",
    "    \n",
    "    return res"
   ]
  },
  {
   "cell_type": "markdown",
   "metadata": {},
   "source": [
    "## Experimental Results\n",
    "\n",
    "Посмотрим на результаты\n",
    "\n",
    "*Remark* скорее всего посчитать метрики для всех пользователей будет довольно долго - можно ограничится, например, случайными 10к пользователями"
   ]
  },
  {
   "cell_type": "code",
   "execution_count": 318,
   "metadata": {},
   "outputs": [
    {
     "data": {
      "text/plain": [
       "DataFrame[userId: int, movieId: int, rating: double]"
      ]
     },
     "execution_count": 318,
     "metadata": {},
     "output_type": "execute_result"
    }
   ],
   "source": [
    "test.cache()\n",
    "\n",
    "train.cache()"
   ]
  },
  {
   "cell_type": "code",
   "execution_count": 262,
   "metadata": {},
   "outputs": [],
   "source": [
    "usr_id = 1"
   ]
  },
  {
   "cell_type": "code",
   "execution_count": 319,
   "metadata": {},
   "outputs": [
    {
     "name": "stdout",
     "output_type": "stream",
     "text": [
      "CPU times: user 45.3 ms, sys: 5.39 ms, total: 50.7 ms\n",
      "Wall time: 41.4 s\n"
     ]
    }
   ],
   "source": [
    "%%time\n",
    "\n",
    "pop = get_pop(train, usr_id, 10)\\\n",
    "    .select('movieId')\\\n",
    "    .withColumn('userId', F.lit(usr_id))"
   ]
  },
  {
   "cell_type": "code",
   "execution_count": 300,
   "metadata": {},
   "outputs": [],
   "source": [
    "spark.conf.set(\"spark.sql.crossJoin.enabled\", \"true\")"
   ]
  },
  {
   "cell_type": "code",
   "execution_count": 334,
   "metadata": {
    "scrolled": false
   },
   "outputs": [
    {
     "name": "stdout",
     "output_type": "stream",
     "text": [
      "+------+----------------+--------------+------+-----+\n",
      "|userId|seen_films_count|intersec_count|prec@N|rec@N|\n",
      "+------+----------------+--------------+------+-----+\n",
      "|     1|               8|             1|   0.1|0.125|\n",
      "+------+----------------+--------------+------+-----+\n",
      "\n"
     ]
    }
   ],
   "source": [
    "get_precision_recall(test, pop, 10).show()"
   ]
  },
  {
   "cell_type": "code",
   "execution_count": 325,
   "metadata": {},
   "outputs": [
    {
     "name": "stdout",
     "output_type": "stream",
     "text": [
      "CPU times: user 35.8 ms, sys: 4.57 ms, total: 40.4 ms\n",
      "Wall time: 16.8 s\n"
     ]
    }
   ],
   "source": [
    "%%time\n",
    "\n",
    "ubcf = get_ubcf(train, usr_id=1, alpha=0.25, N=10)\\\n",
    "    .select('movieId')\\\n",
    "    .withColumn('userId', F.lit(usr_id))"
   ]
  },
  {
   "cell_type": "code",
   "execution_count": 335,
   "metadata": {
    "scrolled": false
   },
   "outputs": [
    {
     "name": "stdout",
     "output_type": "stream",
     "text": [
      "+------+----------------+--------------+------+-----+\n",
      "|userId|seen_films_count|intersec_count|prec@N|rec@N|\n",
      "+------+----------------+--------------+------+-----+\n",
      "|     1|               8|             0|   0.0|  0.0|\n",
      "+------+----------------+--------------+------+-----+\n",
      "\n"
     ]
    }
   ],
   "source": [
    "get_precision_recall(test, ubcf, 10).show()"
   ]
  },
  {
   "cell_type": "code",
   "execution_count": 347,
   "metadata": {},
   "outputs": [
    {
     "name": "stderr",
     "output_type": "stream",
     "text": [
      "100%|██████████| 55/55 [32:40<00:00, 35.65s/it]\n"
     ]
    },
    {
     "name": "stdout",
     "output_type": "stream",
     "text": [
      "CPU times: user 1.45 s, sys: 210 ms, total: 1.66 s\n",
      "Wall time: 32min 41s\n"
     ]
    }
   ],
   "source": [
    "%%time \n",
    "\n",
    "knn = get_knn(train, usr_id, base_films_sample=None, N=10)\\\n",
    "    .select('movieId')\\\n",
    "    .withColumn('userId', F.lit(usr_id))"
   ]
  },
  {
   "cell_type": "code",
   "execution_count": 348,
   "metadata": {
    "scrolled": false
   },
   "outputs": [
    {
     "name": "stdout",
     "output_type": "stream",
     "text": [
      "+------+----------------+--------------+------+-----+\n",
      "|userId|seen_films_count|intersec_count|prec@N|rec@N|\n",
      "+------+----------------+--------------+------+-----+\n",
      "|     1|               8|             1|   0.1|0.125|\n",
      "+------+----------------+--------------+------+-----+\n",
      "\n"
     ]
    }
   ],
   "source": [
    "get_precision_recall(test, knn, 10).show()"
   ]
  },
  {
   "cell_type": "code",
   "execution_count": null,
   "metadata": {},
   "outputs": [],
   "source": []
  }
 ],
 "metadata": {
  "kernelspec": {
   "display_name": "Python 3",
   "language": "python",
   "name": "python3"
  },
  "language_info": {
   "codemirror_mode": {
    "name": "ipython",
    "version": 3
   },
   "file_extension": ".py",
   "mimetype": "text/x-python",
   "name": "python",
   "nbconvert_exporter": "python",
   "pygments_lexer": "ipython3",
   "version": "3.5.6"
  },
  "toc": {
   "base_numbering": 1,
   "nav_menu": {
    "height": "431.997px",
    "width": "329.514px"
   },
   "number_sections": true,
   "sideBar": true,
   "skip_h1_title": false,
   "title_cell": "Table of Contents",
   "title_sidebar": "Contents",
   "toc_cell": false,
   "toc_position": {
    "height": "calc(100% - 180px)",
    "left": "10px",
    "top": "150px",
    "width": "321.545px"
   },
   "toc_section_display": true,
   "toc_window_display": true
  }
 },
 "nbformat": 4,
 "nbformat_minor": 2
}
