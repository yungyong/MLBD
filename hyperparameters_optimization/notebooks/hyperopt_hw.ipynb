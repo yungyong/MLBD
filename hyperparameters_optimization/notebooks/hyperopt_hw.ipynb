{
 "cells": [
  {
   "cell_type": "markdown",
   "metadata": {
    "toc": true
   },
   "source": [
    "<h1>Table of Contents<span class=\"tocSkip\"></span></h1>\n",
    "<div class=\"toc\"><ul class=\"toc-item\"><li><span><a href=\"#Spark-MLlib-Tuning\" data-toc-modified-id=\"Spark-MLlib-Tuning-1\"><span class=\"toc-item-num\">1&nbsp;&nbsp;</span><a href=\"https://spark.apache.org/docs/latest/ml-tuning.html\" target=\"_blank\">Spark MLlib Tuning</a></a></span></li><li><span><a href=\"#Hyperopt\" data-toc-modified-id=\"Hyperopt-2\"><span class=\"toc-item-num\">2&nbsp;&nbsp;</span><a href=\"https://github.com/hyperopt/hyperopt\" target=\"_blank\">Hyperopt</a></a></span><ul class=\"toc-item\"><li><span><a href=\"#XGBoost-Tuning\" data-toc-modified-id=\"XGBoost-Tuning-2.1\"><span class=\"toc-item-num\">2.1&nbsp;&nbsp;</span><a href=\"https://www.analyticsvidhya.com/blog/2016/03/complete-guide-parameter-tuning-xgboost-with-codes-python/\" target=\"_blank\">XGBoost Tuning</a></a></span><ul class=\"toc-item\"><li><span><a href=\"#Objective-function\" data-toc-modified-id=\"Objective-function-2.1.1\"><span class=\"toc-item-num\">2.1.1&nbsp;&nbsp;</span>Objective function</a></span></li><li><span><a href=\"#Tune-number-of-trees\" data-toc-modified-id=\"Tune-number-of-trees-2.1.2\"><span class=\"toc-item-num\">2.1.2&nbsp;&nbsp;</span>Tune number of trees</a></span></li><li><span><a href=\"#Tune-tree-specific-parameters\" data-toc-modified-id=\"Tune-tree-specific-parameters-2.1.3\"><span class=\"toc-item-num\">2.1.3&nbsp;&nbsp;</span>Tune tree-specific parameters</a></span><ul class=\"toc-item\"><li><span><a href=\"#Tune-max_depth,-min_child_weight\" data-toc-modified-id=\"Tune-max_depth,-min_child_weight-2.1.3.1\"><span class=\"toc-item-num\">2.1.3.1&nbsp;&nbsp;</span>Tune max_depth, min_child_weight</a></span></li><li><span><a href=\"#Tune-gamma\" data-toc-modified-id=\"Tune-gamma-2.1.3.2\"><span class=\"toc-item-num\">2.1.3.2&nbsp;&nbsp;</span>Tune gamma</a></span></li><li><span><a href=\"#Tune-subsample,-colsample_bytree\" data-toc-modified-id=\"Tune-subsample,-colsample_bytree-2.1.3.3\"><span class=\"toc-item-num\">2.1.3.3&nbsp;&nbsp;</span>Tune subsample, colsample_bytree</a></span></li></ul></li><li><span><a href=\"#Tune-regularization-parameters\" data-toc-modified-id=\"Tune-regularization-parameters-2.1.4\"><span class=\"toc-item-num\">2.1.4&nbsp;&nbsp;</span>Tune regularization parameters</a></span></li><li><span><a href=\"#Lower-the-learning-rate-and-decide-the-optimal-parameters\" data-toc-modified-id=\"Lower-the-learning-rate-and-decide-the-optimal-parameters-2.1.5\"><span class=\"toc-item-num\">2.1.5&nbsp;&nbsp;</span>Lower the learning rate and decide the optimal parameters</a></span></li></ul></li><li><span><a href=\"#LogisticRegression-Tuning\" data-toc-modified-id=\"LogisticRegression-Tuning-2.2\"><span class=\"toc-item-num\">2.2&nbsp;&nbsp;</span>LogisticRegression Tuning</a></span></li><li><span><a href=\"#Optional-MongoTrials\" data-toc-modified-id=\"Optional-MongoTrials-2.3\"><span class=\"toc-item-num\">2.3&nbsp;&nbsp;</span>Optional <a href=\"https://hyperopt.github.io/hyperopt/scaleout/mongodb/\" target=\"_blank\">MongoTrials</a></a></span><ul class=\"toc-item\"><li><span><a href=\"#XGBoost-Tuning\" data-toc-modified-id=\"XGBoost-Tuning-2.3.1\"><span class=\"toc-item-num\">2.3.1&nbsp;&nbsp;</span>XGBoost Tuning</a></span></li></ul></li></ul></li><li><span><a href=\"#Results\" data-toc-modified-id=\"Results-3\"><span class=\"toc-item-num\">3&nbsp;&nbsp;</span>Results</a></span></li></ul></div>"
   ]
  },
  {
   "cell_type": "markdown",
   "metadata": {},
   "source": [
    "Продолжаем работать над задачей CTR-prediction с использованием датасета от Criteo.\n",
    "\n",
    "Описание задачи и данных можно посмотреть в notebook'e предыдущей практики (`sgd_logreg_nn/notebooks/ctr_prediction_mllib.ipynb`)."
   ]
  },
  {
   "cell_type": "code",
   "execution_count": 1,
   "metadata": {},
   "outputs": [],
   "source": [
    "%matplotlib inline\n",
    "%config InlineBackend.figure_format ='retina'\n",
    "\n",
    "import os\n",
    "import sys\n",
    "import glob\n",
    "import pickle\n",
    "import seaborn as sns\n",
    "import matplotlib.pyplot as plt\n",
    "import numpy as np\n",
    "\n",
    "import pyspark\n",
    "import pyspark.sql.functions as F\n",
    "from pyspark.conf import SparkConf\n",
    "from pyspark.sql import SQLContext\n",
    "from pyspark.sql import SparkSession\n",
    "from pyspark.sql import Row\n",
    "\n",
    "COMMON_PATH = '/workspace/common'\n",
    "\n",
    "sys.path.append(os.path.join(COMMON_PATH, 'utils'))\n",
    "\n",
    "os.environ['PYSPARK_SUBMIT_ARGS'] = \"\"\"\n",
    "--jars {common}/xgboost4j-spark-0.72.jar,{common}/xgboost4j-0.72.jar\n",
    "--py-files {common}/sparkxgb.zip pyspark-shell\n",
    "\"\"\".format(common=COMMON_PATH).replace('\\n', ' ')\n",
    "\n",
    "spark = SparkSession \\\n",
    "    .builder \\\n",
    "    .master('local[*]') \\\n",
    "    .appName(\"spark_sql_examples\") \\\n",
    "    .config(\"spark.executor.memory\", \"6g\") \\\n",
    "    .getOrCreate()\n",
    "\n",
    "sc = spark.sparkContext\n",
    "sqlContext = SQLContext(sc)\n",
    "\n",
    "from metrics import rocauc, logloss, ne, get_ate\n",
    "from processing import split_by_col\n",
    "\n",
    "from sparkxgb.xgboost import *"
   ]
  },
  {
   "cell_type": "code",
   "execution_count": 2,
   "metadata": {},
   "outputs": [],
   "source": [
    "DATA_PATH = '/workspace/data/criteo'\n",
    "\n",
    "TRAIN_PATH = os.path.join(DATA_PATH, 'train.csv')"
   ]
  },
  {
   "cell_type": "code",
   "execution_count": 3,
   "metadata": {},
   "outputs": [],
   "source": [
    "df = sqlContext.read.format(\"com.databricks.spark.csv\") \\\n",
    "    .option(\"delimiter\", \",\") \\\n",
    "    .option(\"header\", \"true\") \\\n",
    "    .option(\"inferSchema\", \"true\") \\\n",
    "    .load('file:///' + TRAIN_PATH)"
   ]
  },
  {
   "cell_type": "markdown",
   "metadata": {},
   "source": [
    "**Remark** Необязательно использовать половину датасета и всего две категориальные переменные. Можно использовать больше данных, если вам позволяет ваша конфигурация"
   ]
  },
  {
   "cell_type": "code",
   "execution_count": 4,
   "metadata": {},
   "outputs": [],
   "source": [
    "df = df.sample(False, 0.5)"
   ]
  },
  {
   "cell_type": "code",
   "execution_count": 5,
   "metadata": {},
   "outputs": [
    {
     "data": {
      "text/plain": [
       "(13, 2)"
      ]
     },
     "execution_count": 5,
     "metadata": {},
     "output_type": "execute_result"
    }
   ],
   "source": [
    "num_columns = ['_c{}'.format(i) for i in range(1, 14)]\n",
    "cat_columns = ['_c{}'.format(i) for i in range(14, 40)][:2]\n",
    "len(num_columns), len(cat_columns)"
   ]
  },
  {
   "cell_type": "code",
   "execution_count": 6,
   "metadata": {},
   "outputs": [],
   "source": [
    "df = df.fillna(0, subset=num_columns)"
   ]
  },
  {
   "cell_type": "code",
   "execution_count": 8,
   "metadata": {
    "scrolled": true
   },
   "outputs": [],
   "source": [
    "from pyspark.ml import PipelineModel\n",
    "\n",
    "\n",
    "pipeline_model = PipelineModel.load(os.path.join(DATA_PATH, 'pipeline_model_MTE'))"
   ]
  },
  {
   "cell_type": "code",
   "execution_count": 9,
   "metadata": {},
   "outputs": [
    {
     "data": {
      "text/plain": [
       "1832852"
      ]
     },
     "execution_count": 9,
     "metadata": {},
     "output_type": "execute_result"
    }
   ],
   "source": [
    "df = pipeline_model \\\n",
    "    .transform(df) \\\n",
    "    .select(F.col('_c0').alias('label'), 'features', 'id') \\\n",
    "    .cache()\n",
    "\n",
    "df.count()"
   ]
  },
  {
   "cell_type": "code",
   "execution_count": 10,
   "metadata": {},
   "outputs": [],
   "source": [
    "train_df, val_df, test_df = split_by_col(df, 'id', [0.8, 0.1, 0.1])"
   ]
  },
  {
   "cell_type": "markdown",
   "metadata": {},
   "source": [
    "# [Spark MLlib Tuning](https://spark.apache.org/docs/latest/ml-tuning.html)\n",
    "\n",
    "У имеющегося в Spark'e метода HPO есть два существенных недостатка, которые делают его мало пригодным в контексте нашей задачи:\n",
    "\n",
    "1. `ParamGridBuilder` - поиск по сетке\n",
    "2. `TrainValidationSplit` - делит данные случайнм образом"
   ]
  },
  {
   "cell_type": "code",
   "execution_count": null,
   "metadata": {},
   "outputs": [],
   "source": []
  },
  {
   "cell_type": "markdown",
   "metadata": {},
   "source": [
    "# [Hyperopt](https://github.com/hyperopt/hyperopt)\n",
    "\n",
    "Установим `hyperopt`"
   ]
  },
  {
   "cell_type": "code",
   "execution_count": 11,
   "metadata": {},
   "outputs": [
    {
     "name": "stdout",
     "output_type": "stream",
     "text": [
      "Collecting hyperopt\n",
      "  Downloading hyperopt-0.2.3-py3-none-any.whl (1.9 MB)\n",
      "\u001b[K     |████████████████████████████████| 1.9 MB 1.5 MB/s eta 0:00:01\n",
      "\u001b[?25hRequirement already satisfied: numpy in /usr/lib64/python3.5/site-packages (from hyperopt) (1.17.2)\n",
      "Requirement already satisfied: six in /usr/lib/python3.5/site-packages (from hyperopt) (1.14.0)\n",
      "Collecting cloudpickle\n",
      "  Downloading cloudpickle-1.3.0-py2.py3-none-any.whl (26 kB)\n",
      "Collecting networkx==2.2\n",
      "  Downloading networkx-2.2.zip (1.7 MB)\n",
      "\u001b[K     |████████████████████████████████| 1.7 MB 2.1 MB/s eta 0:00:01\n",
      "\u001b[?25hRequirement already satisfied: scipy in /usr/lib64/python3.5/site-packages (from hyperopt) (1.3.3)\n",
      "Collecting tqdm\n",
      "  Downloading tqdm-4.43.0-py2.py3-none-any.whl (59 kB)\n",
      "\u001b[K     |████████████████████████████████| 59 kB 1.9 MB/s eta 0:00:01\n",
      "\u001b[?25hCollecting future\n",
      "  Downloading future-0.18.2.tar.gz (829 kB)\n",
      "\u001b[K     |████████████████████████████████| 829 kB 614 kB/s eta 0:00:01\n",
      "\u001b[?25hRequirement already satisfied: decorator>=4.3.0 in /usr/lib/python3.5/site-packages (from networkx==2.2->hyperopt) (4.4.2)\n",
      "Installing collected packages: cloudpickle, networkx, tqdm, future, hyperopt\n",
      "    Running setup.py install for networkx ... \u001b[?25ldone\n",
      "\u001b[?25h    Running setup.py install for future ... \u001b[?25ldone\n",
      "\u001b[?25hSuccessfully installed cloudpickle-1.3.0 future-0.18.2 hyperopt-0.2.3 networkx-2.2 tqdm-4.43.0\n"
     ]
    }
   ],
   "source": [
    "!pip3.5 install hyperopt"
   ]
  },
  {
   "cell_type": "markdown",
   "metadata": {},
   "source": [
    "## [XGBoost Tuning](https://www.analyticsvidhya.com/blog/2016/03/complete-guide-parameter-tuning-xgboost-with-codes-python/)\n",
    "\n",
    "> [Notes on Parameter Tuning](https://xgboost.readthedocs.io/en/latest/tutorials/param_tuning.html)\n",
    "\n",
    "### Objective function"
   ]
  },
  {
   "cell_type": "code",
   "execution_count": 35,
   "metadata": {},
   "outputs": [],
   "source": [
    "from hyperopt import fmin, tpe, hp, Trials, STATUS_OK\n",
    "import scipy.stats as st\n",
    "\n",
    "\n",
    "def objective(space):\n",
    "    estimator = XGBoostEstimator(**space)\n",
    "    print('SPACE:', estimator._input_kwargs_processed())\n",
    "    success = False\n",
    "    attempts = 0\n",
    "    model = None\n",
    "    while not success and attempts < 2:\n",
    "        try:\n",
    "            model = estimator.fit(train_df)\n",
    "            success = True\n",
    "        except Exception as e:\n",
    "            attempts += 1\n",
    "            print(e)\n",
    "            print('Try again')\n",
    "        \n",
    "    log_loss = logloss(model, val_df, probabilities_col='probabilities')\n",
    "    roc_auc = rocauc(model, val_df, probabilities_col='probabilities')\n",
    "    \n",
    "    print('LOG-LOSS: {}, ROC-AUC: {}'.format(log_loss, roc_auc))\n",
    "\n",
    "    return {'loss': log_loss, 'rocauc': roc_auc, 'status': STATUS_OK }"
   ]
  },
  {
   "cell_type": "code",
   "execution_count": 36,
   "metadata": {},
   "outputs": [],
   "source": [
    "static_params = {\n",
    "    'featuresCol': \"features\", \n",
    "    'labelCol': \"label\", \n",
    "    'predictionCol': \"prediction\",\n",
    "    'eval_metric': 'logloss',\n",
    "    'objective': 'binary:logistic',\n",
    "    'nthread': 1,\n",
    "    'silent': 0,\n",
    "    'nworkers': 1\n",
    "}"
   ]
  },
  {
   "cell_type": "markdown",
   "metadata": {},
   "source": [
    "Fix baseline parameters and train baseline model"
   ]
  },
  {
   "cell_type": "code",
   "execution_count": 14,
   "metadata": {},
   "outputs": [],
   "source": [
    "CONTROL_NAME = 'xgb baseline'\n",
    "\n",
    "baseline_params = {\n",
    "    'colsample_bytree': 0.9,\n",
    "    'eta': 0.15,\n",
    "    'gamma': 0.9,\n",
    "    'max_depth': 6,\n",
    "    'min_child_weight': 50.0,\n",
    "    'subsample': 0.9,\n",
    "    'num_round': 20\n",
    "}\n",
    "\n",
    "baseline_model = XGBoostEstimator(**{**static_params, **baseline_params}).fit(train_df)"
   ]
  },
  {
   "cell_type": "code",
   "execution_count": 15,
   "metadata": {},
   "outputs": [
    {
     "data": {
      "text/plain": [
       "0.725627934940136"
      ]
     },
     "execution_count": 15,
     "metadata": {},
     "output_type": "execute_result"
    }
   ],
   "source": [
    "baseline_rocauc = rocauc(baseline_model, val_df, probabilities_col='probabilities')\n",
    "baseline_rocauc"
   ]
  },
  {
   "cell_type": "code",
   "execution_count": 16,
   "metadata": {},
   "outputs": [],
   "source": [
    "all_metrics = {}"
   ]
  },
  {
   "cell_type": "code",
   "execution_count": 17,
   "metadata": {},
   "outputs": [],
   "source": [
    "baseline_test_metrics = {\n",
    "    'logloss': logloss(baseline_model, test_df, probabilities_col='probabilities'),\n",
    "    'rocauc': rocauc(baseline_model, test_df, probabilities_col='probabilities')\n",
    "}\n",
    "\n",
    "all_metrics[CONTROL_NAME] = baseline_test_metrics"
   ]
  },
  {
   "cell_type": "markdown",
   "metadata": {},
   "source": [
    "### Tune number of trees\n",
    "\n",
    "> Choose a relatively high learning rate. Generally a learning rate of 0.1 works but somewhere between 0.05 to 0.3 should work for different problems. Determine the optimum number of trees for this learning rate."
   ]
  },
  {
   "cell_type": "code",
   "execution_count": null,
   "metadata": {},
   "outputs": [],
   "source": [
    "%%time\n",
    "\n",
    "num_round_choice = [10, 20, 40, 100]\n",
    "eta_choice = [0.5, 0.10, 0.15, 0.20, 0.30]\n",
    "\n",
    "space = {\n",
    "    # Optimize\n",
    "    'num_round': hp.choice('num_round', num_round_choice),\n",
    "    'eta': hp.choice('eta', eta_choice),\n",
    "    \n",
    "    # Fixed    \n",
    "    'max_depth': baseline_params['max_depth'],\n",
    "    'min_child_weight': baseline_params['min_child_weight'],\n",
    "    'subsample': baseline_params['subsample'],\n",
    "    'gamma': baseline_params['gamma'],\n",
    "    'colsample_bytree': baseline_params['colsample_bytree'],\n",
    "    \n",
    "    **static_params\n",
    "}\n",
    "\n",
    "\n",
    "trials = Trials()\n",
    "best = fmin(fn=objective,\n",
    "            space=space,\n",
    "            algo=tpe.suggest,\n",
    "            max_evals=20,\n",
    "            trials=trials)"
   ]
  },
  {
   "cell_type": "code",
   "execution_count": 19,
   "metadata": {},
   "outputs": [
    {
     "data": {
      "text/plain": [
       "{'eta': 0, 'num_round': 3}"
      ]
     },
     "execution_count": 19,
     "metadata": {},
     "output_type": "execute_result"
    }
   ],
   "source": [
    "best"
   ]
  },
  {
   "cell_type": "markdown",
   "metadata": {},
   "source": [
    "Обратите внимание на то, что в случае с `hp.choice` в переменной `best` хранится не конкретное значение гиперпараметра, а его индекс из списка, например, `num_round_choice`"
   ]
  },
  {
   "cell_type": "code",
   "execution_count": 21,
   "metadata": {},
   "outputs": [],
   "source": [
    "eta = eta_choice[best['eta']]  # change me!\n",
    "num_round = num_round_choice[best['num_round']]  # change me!"
   ]
  },
  {
   "cell_type": "code",
   "execution_count": 25,
   "metadata": {},
   "outputs": [
    {
     "data": {
      "text/plain": [
       "(0.5, 100)"
      ]
     },
     "execution_count": 25,
     "metadata": {},
     "output_type": "execute_result"
    }
   ],
   "source": [
    "eta, num_round"
   ]
  },
  {
   "cell_type": "markdown",
   "metadata": {},
   "source": [
    "### Tune tree-specific parameters\n",
    "\n",
    "> Tune tree-specific parameters ( max_depth, min_child_weight, gamma, subsample, colsample_bytree) for decided learning rate and number of trees. Note that we can choose different parameters to define a tree and I’ll take up an example here."
   ]
  },
  {
   "cell_type": "markdown",
   "metadata": {},
   "source": [
    "#### Tune max_depth, min_child_weight"
   ]
  },
  {
   "cell_type": "code",
   "execution_count": 48,
   "metadata": {
    "scrolled": true
   },
   "outputs": [
    {
     "name": "stdout",
     "output_type": "stream",
     "text": [
      "SPACE:                                                \n",
      "{'eval_metric': 'logloss', 'labelCol': 'label', 'gamma': 0.9, 'num_round': 100, 'nthread': 1, 'colsample_bytree': 0.9, 'max_depth': 3, 'featuresCol': 'features', 'objective': 'binary:logistic', 'predictionCol': 'prediction', 'eta': 0.5, 'nworkers': 4, 'min_child_weight': 5.0, 'silent': 0, 'subsample': 0.9}\n",
      "LOG-LOSS: 0.5041161049531627, ROC-AUC: 0.7332839384033639\n",
      "SPACE:                                                                          \n",
      "{'eval_metric': 'logloss', 'labelCol': 'label', 'gamma': 0.9, 'num_round': 100, 'nthread': 1, 'colsample_bytree': 0.9, 'max_depth': 10, 'featuresCol': 'features', 'objective': 'binary:logistic', 'predictionCol': 'prediction', 'eta': 0.5, 'nworkers': 4, 'min_child_weight': 5.0, 'silent': 0, 'subsample': 0.9}\n",
      "LOG-LOSS: 0.5055472624270787, ROC-AUC: 0.7318608047939822                       \n",
      "SPACE:                                                                          \n",
      "{'eval_metric': 'logloss', 'labelCol': 'label', 'gamma': 0.9, 'num_round': 100, 'nthread': 1, 'colsample_bytree': 0.9, 'max_depth': 5, 'featuresCol': 'features', 'objective': 'binary:logistic', 'predictionCol': 'prediction', 'eta': 0.5, 'nworkers': 4, 'min_child_weight': 5.0, 'silent': 0, 'subsample': 0.9}\n",
      "LOG-LOSS: 0.5008802766838307, ROC-AUC: 0.7377013593302337                       \n",
      "SPACE:                                                                          \n",
      "{'eval_metric': 'logloss', 'labelCol': 'label', 'gamma': 0.9, 'num_round': 100, 'nthread': 1, 'colsample_bytree': 0.9, 'max_depth': 4, 'featuresCol': 'features', 'objective': 'binary:logistic', 'predictionCol': 'prediction', 'eta': 0.5, 'nworkers': 4, 'min_child_weight': 5.0, 'silent': 0, 'subsample': 0.9}\n",
      "LOG-LOSS: 0.5026286318435773, ROC-AUC: 0.7352415400934691                       \n",
      "SPACE:                                                                          \n",
      "{'eval_metric': 'logloss', 'labelCol': 'label', 'gamma': 0.9, 'num_round': 100, 'nthread': 1, 'colsample_bytree': 0.9, 'max_depth': 6, 'featuresCol': 'features', 'objective': 'binary:logistic', 'predictionCol': 'prediction', 'eta': 0.5, 'nworkers': 4, 'min_child_weight': 3.0, 'silent': 0, 'subsample': 0.9}\n",
      "LOG-LOSS: 0.5006970967493665, ROC-AUC: 0.7379343251304988                       \n",
      "SPACE:                                                                          \n",
      "{'eval_metric': 'logloss', 'labelCol': 'label', 'gamma': 0.9, 'num_round': 100, 'nthread': 1, 'colsample_bytree': 0.9, 'max_depth': 8, 'featuresCol': 'features', 'objective': 'binary:logistic', 'predictionCol': 'prediction', 'eta': 0.5, 'nworkers': 4, 'min_child_weight': 1.0, 'silent': 0, 'subsample': 0.9}\n",
      "LOG-LOSS: 0.5027878946659702, ROC-AUC: 0.7354468088043064                       \n",
      "SPACE:                                                                           \n",
      "{'eval_metric': 'logloss', 'labelCol': 'label', 'gamma': 0.9, 'num_round': 100, 'nthread': 1, 'colsample_bytree': 0.9, 'max_depth': 6, 'featuresCol': 'features', 'objective': 'binary:logistic', 'predictionCol': 'prediction', 'eta': 0.5, 'nworkers': 4, 'min_child_weight': 5.0, 'silent': 0, 'subsample': 0.9}\n",
      "LOG-LOSS: 0.5010424347619363, ROC-AUC: 0.7375920981664746                        \n",
      "SPACE:                                                                           \n",
      "{'eval_metric': 'logloss', 'labelCol': 'label', 'gamma': 0.9, 'num_round': 100, 'nthread': 1, 'colsample_bytree': 0.9, 'max_depth': 3, 'featuresCol': 'features', 'objective': 'binary:logistic', 'predictionCol': 'prediction', 'eta': 0.5, 'nworkers': 4, 'min_child_weight': 5.0, 'silent': 0, 'subsample': 0.9}\n",
      "LOG-LOSS: 0.5037995175790189, ROC-AUC: 0.7336990898609864                        \n",
      "SPACE:                                                                           \n",
      "{'eval_metric': 'logloss', 'labelCol': 'label', 'gamma': 0.9, 'num_round': 100, 'nthread': 1, 'colsample_bytree': 0.9, 'max_depth': 3, 'featuresCol': 'features', 'objective': 'binary:logistic', 'predictionCol': 'prediction', 'eta': 0.5, 'nworkers': 4, 'min_child_weight': 7.0, 'silent': 0, 'subsample': 0.9}\n",
      "LOG-LOSS: 0.504482281804984, ROC-AUC: 0.7328774838800756                        \n",
      "SPACE:                                                                          \n",
      "{'eval_metric': 'logloss', 'labelCol': 'label', 'gamma': 0.9, 'num_round': 100, 'nthread': 1, 'colsample_bytree': 0.9, 'max_depth': 5, 'featuresCol': 'features', 'objective': 'binary:logistic', 'predictionCol': 'prediction', 'eta': 0.5, 'nworkers': 4, 'min_child_weight': 1.0, 'silent': 0, 'subsample': 0.9}\n",
      "LOG-LOSS: 0.5017057076658631, ROC-AUC: 0.7366677120564011                       \n",
      "SPACE:                                                                           \n",
      "{'eval_metric': 'logloss', 'labelCol': 'label', 'gamma': 0.9, 'num_round': 100, 'nthread': 1, 'colsample_bytree': 0.9, 'max_depth': 4, 'featuresCol': 'features', 'objective': 'binary:logistic', 'predictionCol': 'prediction', 'eta': 0.5, 'nworkers': 4, 'min_child_weight': 5.0, 'silent': 0, 'subsample': 0.9}\n",
      "LOG-LOSS: 0.5021351228069444, ROC-AUC: 0.7359682495992476                        \n",
      "SPACE:                                                                            \n",
      "{'eval_metric': 'logloss', 'labelCol': 'label', 'gamma': 0.9, 'num_round': 100, 'nthread': 1, 'colsample_bytree': 0.9, 'max_depth': 5, 'featuresCol': 'features', 'objective': 'binary:logistic', 'predictionCol': 'prediction', 'eta': 0.5, 'nworkers': 4, 'min_child_weight': 7.0, 'silent': 0, 'subsample': 0.9}\n",
      "LOG-LOSS: 0.5010839978290532, ROC-AUC: 0.7372927188945053                         \n",
      "SPACE:                                                                            \n",
      "{'eval_metric': 'logloss', 'labelCol': 'label', 'gamma': 0.9, 'num_round': 100, 'nthread': 1, 'colsample_bytree': 0.9, 'max_depth': 8, 'featuresCol': 'features', 'objective': 'binary:logistic', 'predictionCol': 'prediction', 'eta': 0.5, 'nworkers': 4, 'min_child_weight': 3.0, 'silent': 0, 'subsample': 0.9}\n",
      "LOG-LOSS: 0.5024135556462901, ROC-AUC: 0.7357705346821175                         \n",
      "SPACE:                                                                            \n",
      "{'eval_metric': 'logloss', 'labelCol': 'label', 'gamma': 0.9, 'num_round': 100, 'nthread': 1, 'colsample_bytree': 0.9, 'max_depth': 3, 'featuresCol': 'features', 'objective': 'binary:logistic', 'predictionCol': 'prediction', 'eta': 0.5, 'nworkers': 4, 'min_child_weight': 3.0, 'silent': 0, 'subsample': 0.9}\n",
      "LOG-LOSS: 0.5038106279662987, ROC-AUC: 0.7338086939900613                         \n",
      "SPACE:                                                                            \n",
      "{'eval_metric': 'logloss', 'labelCol': 'label', 'gamma': 0.9, 'num_round': 100, 'nthread': 1, 'colsample_bytree': 0.9, 'max_depth': 5, 'featuresCol': 'features', 'objective': 'binary:logistic', 'predictionCol': 'prediction', 'eta': 0.5, 'nworkers': 4, 'min_child_weight': 5.0, 'silent': 0, 'subsample': 0.9}\n",
      "LOG-LOSS: 0.5015779803244789, ROC-AUC: 0.7368661096664502                         \n",
      "SPACE:                                                                            \n",
      "{'eval_metric': 'logloss', 'labelCol': 'label', 'gamma': 0.9, 'num_round': 100, 'nthread': 1, 'colsample_bytree': 0.9, 'max_depth': 8, 'featuresCol': 'features', 'objective': 'binary:logistic', 'predictionCol': 'prediction', 'eta': 0.5, 'nworkers': 4, 'min_child_weight': 1.0, 'silent': 0, 'subsample': 0.9}\n",
      "LOG-LOSS: 0.5024032264314732, ROC-AUC: 0.7357455965015853                         \n",
      "SPACE:                                                                            \n",
      "{'eval_metric': 'logloss', 'labelCol': 'label', 'gamma': 0.9, 'num_round': 100, 'nthread': 1, 'colsample_bytree': 0.9, 'max_depth': 8, 'featuresCol': 'features', 'objective': 'binary:logistic', 'predictionCol': 'prediction', 'eta': 0.5, 'nworkers': 4, 'min_child_weight': 1.0, 'silent': 0, 'subsample': 0.9}\n",
      "LOG-LOSS: 0.502757725978686, ROC-AUC: 0.7354691465692558                          \n",
      "SPACE:                                                                            \n",
      "{'eval_metric': 'logloss', 'labelCol': 'label', 'gamma': 0.9, 'num_round': 100, 'nthread': 1, 'colsample_bytree': 0.9, 'max_depth': 6, 'featuresCol': 'features', 'objective': 'binary:logistic', 'predictionCol': 'prediction', 'eta': 0.5, 'nworkers': 4, 'min_child_weight': 1.0, 'silent': 0, 'subsample': 0.9}\n"
     ]
    },
    {
     "name": "stdout",
     "output_type": "stream",
     "text": [
      "LOG-LOSS: 0.5010966269935865, ROC-AUC: 0.7374961444269488                         \n",
      "SPACE:                                                                            \n",
      "{'eval_metric': 'logloss', 'labelCol': 'label', 'gamma': 0.9, 'num_round': 100, 'nthread': 1, 'colsample_bytree': 0.9, 'max_depth': 3, 'featuresCol': 'features', 'objective': 'binary:logistic', 'predictionCol': 'prediction', 'eta': 0.5, 'nworkers': 4, 'min_child_weight': 3.0, 'silent': 0, 'subsample': 0.9}\n",
      "LOG-LOSS: 0.5033106367801168, ROC-AUC: 0.7343945733346177                         \n",
      "SPACE:                                                                            \n",
      "{'eval_metric': 'logloss', 'labelCol': 'label', 'gamma': 0.9, 'num_round': 100, 'nthread': 1, 'colsample_bytree': 0.9, 'max_depth': 5, 'featuresCol': 'features', 'objective': 'binary:logistic', 'predictionCol': 'prediction', 'eta': 0.5, 'nworkers': 4, 'min_child_weight': 5.0, 'silent': 0, 'subsample': 0.9}\n",
      "LOG-LOSS: 0.5019185259541359, ROC-AUC: 0.7361842357256315                         \n",
      "100%|██████████| 20/20 [41:56<00:00, 125.82s/trial, best loss: 0.5006970967493665]\n"
     ]
    }
   ],
   "source": [
    "max_depth_choice = [3, 4, 5, 6, 8, 10]\n",
    "min_child_weight_choice = [1., 3., 5., 7.]\n",
    "\n",
    "space = {\n",
    "    # Optimize\n",
    "    'max_depth': hp.choice('max_depth', max_depth_choice),\n",
    "    'min_child_weight': hp.choice('min_child_weight', min_child_weight_choice),\n",
    "    \n",
    "    # Fixed    \n",
    "    'subsample': baseline_params['subsample'],\n",
    "    'gamma': baseline_params['gamma'],\n",
    "    'colsample_bytree': baseline_params['colsample_bytree'],\n",
    "    'num_round': num_round,\n",
    "    'eta': eta,\n",
    "    \n",
    "    **static_params\n",
    "}\n",
    "\n",
    "\n",
    "trials = Trials()\n",
    "best = fmin(fn=objective,\n",
    "            space=space,\n",
    "            algo=tpe.suggest,\n",
    "            max_evals=20,\n",
    "            trials=trials)"
   ]
  },
  {
   "cell_type": "code",
   "execution_count": 49,
   "metadata": {},
   "outputs": [],
   "source": [
    "max_depth = max_depth_choice[best['max_depth']] \n",
    "min_child_weight = min_child_weight_choice[best['min_child_weight']] "
   ]
  },
  {
   "cell_type": "code",
   "execution_count": 50,
   "metadata": {},
   "outputs": [
    {
     "data": {
      "text/plain": [
       "(6, 3.0)"
      ]
     },
     "execution_count": 50,
     "metadata": {},
     "output_type": "execute_result"
    }
   ],
   "source": [
    "max_depth, min_child_weight"
   ]
  },
  {
   "cell_type": "markdown",
   "metadata": {},
   "source": [
    "#### Tune gamma"
   ]
  },
  {
   "cell_type": "code",
   "execution_count": 53,
   "metadata": {
    "collapsed": true
   },
   "outputs": [
    {
     "name": "stdout",
     "output_type": "stream",
     "text": [
      "SPACE:                                                \n",
      "{'eval_metric': 'logloss', 'labelCol': 'label', 'gamma': 8.0, 'num_round': 100, 'nthread': 1, 'colsample_bytree': 0.9, 'max_depth': 6, 'featuresCol': 'features', 'objective': 'binary:logistic', 'predictionCol': 'prediction', 'eta': 0.5, 'nworkers': 4, 'min_child_weight': 3.0, 'silent': 0, 'subsample': 0.9}\n",
      "LOG-LOSS: 0.5005293964635392, ROC-AUC: 0.7380299611125478\n",
      "SPACE:                                                                           \n",
      "{'eval_metric': 'logloss', 'labelCol': 'label', 'gamma': 8.0, 'num_round': 100, 'nthread': 1, 'colsample_bytree': 0.9, 'max_depth': 6, 'featuresCol': 'features', 'objective': 'binary:logistic', 'predictionCol': 'prediction', 'eta': 0.5, 'nworkers': 4, 'min_child_weight': 3.0, 'silent': 0, 'subsample': 0.9}\n",
      "LOG-LOSS: 0.5003470672616955, ROC-AUC: 0.7384995442259997                        \n",
      "SPACE:                                                                           \n",
      "{'eval_metric': 'logloss', 'labelCol': 'label', 'gamma': 3.0, 'num_round': 100, 'nthread': 1, 'colsample_bytree': 0.9, 'max_depth': 6, 'featuresCol': 'features', 'objective': 'binary:logistic', 'predictionCol': 'prediction', 'eta': 0.5, 'nworkers': 4, 'min_child_weight': 3.0, 'silent': 0, 'subsample': 0.9}\n",
      "LOG-LOSS: 0.5009477007142503, ROC-AUC: 0.7375311413816168                        \n",
      "SPACE:                                                                           \n",
      "{'eval_metric': 'logloss', 'labelCol': 'label', 'gamma': 8.0, 'num_round': 100, 'nthread': 1, 'colsample_bytree': 0.9, 'max_depth': 6, 'featuresCol': 'features', 'objective': 'binary:logistic', 'predictionCol': 'prediction', 'eta': 0.5, 'nworkers': 4, 'min_child_weight': 3.0, 'silent': 0, 'subsample': 0.9}\n",
      "LOG-LOSS: 0.5004504203469388, ROC-AUC: 0.7384771191972345                        \n",
      "SPACE:                                                                           \n",
      "{'eval_metric': 'logloss', 'labelCol': 'label', 'gamma': 5.0, 'num_round': 100, 'nthread': 1, 'colsample_bytree': 0.9, 'max_depth': 6, 'featuresCol': 'features', 'objective': 'binary:logistic', 'predictionCol': 'prediction', 'eta': 0.5, 'nworkers': 4, 'min_child_weight': 3.0, 'silent': 0, 'subsample': 0.9}\n",
      "LOG-LOSS: 0.500864504914747, ROC-AUC: 0.7376440493559274                         \n",
      "SPACE:                                                                           \n",
      "{'eval_metric': 'logloss', 'labelCol': 'label', 'gamma': 10.0, 'num_round': 100, 'nthread': 1, 'colsample_bytree': 0.9, 'max_depth': 6, 'featuresCol': 'features', 'objective': 'binary:logistic', 'predictionCol': 'prediction', 'eta': 0.5, 'nworkers': 4, 'min_child_weight': 3.0, 'silent': 0, 'subsample': 0.9}\n",
      "LOG-LOSS: 0.5005077982991102, ROC-AUC: 0.7382207919780771                        \n",
      "SPACE:                                                                           \n",
      "{'eval_metric': 'logloss', 'labelCol': 'label', 'gamma': 5.0, 'num_round': 100, 'nthread': 1, 'colsample_bytree': 0.9, 'max_depth': 6, 'featuresCol': 'features', 'objective': 'binary:logistic', 'predictionCol': 'prediction', 'eta': 0.5, 'nworkers': 4, 'min_child_weight': 3.0, 'silent': 0, 'subsample': 0.9}\n",
      "LOG-LOSS: 0.5008437572093735, ROC-AUC: 0.7378406924389965                        \n",
      "SPACE:                                                                           \n",
      "{'eval_metric': 'logloss', 'labelCol': 'label', 'gamma': 10.0, 'num_round': 100, 'nthread': 1, 'colsample_bytree': 0.9, 'max_depth': 6, 'featuresCol': 'features', 'objective': 'binary:logistic', 'predictionCol': 'prediction', 'eta': 0.5, 'nworkers': 4, 'min_child_weight': 3.0, 'silent': 0, 'subsample': 0.9}\n",
      "LOG-LOSS: 0.5005077982991102, ROC-AUC: 0.7382207919780777                        \n",
      "SPACE:                                                                           \n",
      "{'eval_metric': 'logloss', 'labelCol': 'label', 'gamma': 5.0, 'num_round': 100, 'nthread': 1, 'colsample_bytree': 0.9, 'max_depth': 6, 'featuresCol': 'features', 'objective': 'binary:logistic', 'predictionCol': 'prediction', 'eta': 0.5, 'nworkers': 4, 'min_child_weight': 3.0, 'silent': 0, 'subsample': 0.9}\n",
      "LOG-LOSS: 0.5008437572093735, ROC-AUC: 0.7378406924389934                        \n",
      "SPACE:                                                                           \n",
      "{'eval_metric': 'logloss', 'labelCol': 'label', 'gamma': 6.0, 'num_round': 100, 'nthread': 1, 'colsample_bytree': 0.9, 'max_depth': 6, 'featuresCol': 'features', 'objective': 'binary:logistic', 'predictionCol': 'prediction', 'eta': 0.5, 'nworkers': 4, 'min_child_weight': 3.0, 'silent': 0, 'subsample': 0.9}\n",
      "LOG-LOSS: 0.500760973858339, ROC-AUC: 0.7380240543848969                         \n",
      "SPACE:                                                                            \n",
      "{'eval_metric': 'logloss', 'labelCol': 'label', 'gamma': 8.0, 'num_round': 100, 'nthread': 1, 'colsample_bytree': 0.9, 'max_depth': 6, 'featuresCol': 'features', 'objective': 'binary:logistic', 'predictionCol': 'prediction', 'eta': 0.5, 'nworkers': 4, 'min_child_weight': 3.0, 'silent': 0, 'subsample': 0.9}\n",
      "LOG-LOSS: 0.5007047336854668, ROC-AUC: 0.7379599405306986                         \n",
      "SPACE:                                                                            \n",
      "{'eval_metric': 'logloss', 'labelCol': 'label', 'gamma': 4.0, 'num_round': 100, 'nthread': 1, 'colsample_bytree': 0.9, 'max_depth': 6, 'featuresCol': 'features', 'objective': 'binary:logistic', 'predictionCol': 'prediction', 'eta': 0.5, 'nworkers': 4, 'min_child_weight': 3.0, 'silent': 0, 'subsample': 0.9}\n",
      "LOG-LOSS: 0.5006398508941546, ROC-AUC: 0.7382597464857525                         \n",
      "SPACE:                                                                            \n",
      "{'eval_metric': 'logloss', 'labelCol': 'label', 'gamma': 6.0, 'num_round': 100, 'nthread': 1, 'colsample_bytree': 0.9, 'max_depth': 6, 'featuresCol': 'features', 'objective': 'binary:logistic', 'predictionCol': 'prediction', 'eta': 0.5, 'nworkers': 4, 'min_child_weight': 3.0, 'silent': 0, 'subsample': 0.9}\n",
      "LOG-LOSS: 0.5011343436798371, ROC-AUC: 0.737403413898419                          \n",
      "SPACE:                                                                            \n",
      "{'eval_metric': 'logloss', 'labelCol': 'label', 'gamma': 10.0, 'num_round': 100, 'nthread': 1, 'colsample_bytree': 0.9, 'max_depth': 6, 'featuresCol': 'features', 'objective': 'binary:logistic', 'predictionCol': 'prediction', 'eta': 0.5, 'nworkers': 4, 'min_child_weight': 3.0, 'silent': 0, 'subsample': 0.9}\n",
      "LOG-LOSS: 0.5007497718768874, ROC-AUC: 0.7378935360012187                         \n",
      "SPACE:                                                                            \n",
      "{'eval_metric': 'logloss', 'labelCol': 'label', 'gamma': 8.0, 'num_round': 100, 'nthread': 1, 'colsample_bytree': 0.9, 'max_depth': 6, 'featuresCol': 'features', 'objective': 'binary:logistic', 'predictionCol': 'prediction', 'eta': 0.5, 'nworkers': 4, 'min_child_weight': 3.0, 'silent': 0, 'subsample': 0.9}\n",
      "LOG-LOSS: 0.5002329362645573, ROC-AUC: 0.7387941444162293                         \n",
      "SPACE:                                                                            \n",
      "{'eval_metric': 'logloss', 'labelCol': 'label', 'gamma': 4.0, 'num_round': 100, 'nthread': 1, 'colsample_bytree': 0.9, 'max_depth': 6, 'featuresCol': 'features', 'objective': 'binary:logistic', 'predictionCol': 'prediction', 'eta': 0.5, 'nworkers': 4, 'min_child_weight': 3.0, 'silent': 0, 'subsample': 0.9}\n",
      "LOG-LOSS: 0.5006398508941546, ROC-AUC: 0.7382597464857527                         \n",
      "SPACE:                                                                            \n",
      "{'eval_metric': 'logloss', 'labelCol': 'label', 'gamma': 4.0, 'num_round': 100, 'nthread': 1, 'colsample_bytree': 0.9, 'max_depth': 6, 'featuresCol': 'features', 'objective': 'binary:logistic', 'predictionCol': 'prediction', 'eta': 0.5, 'nworkers': 4, 'min_child_weight': 3.0, 'silent': 0, 'subsample': 0.9}\n",
      "LOG-LOSS: 0.5011066849031893, ROC-AUC: 0.7376424163970019                         \n",
      "SPACE:                                                                            \n",
      "{'eval_metric': 'logloss', 'labelCol': 'label', 'gamma': 8.0, 'num_round': 100, 'nthread': 1, 'colsample_bytree': 0.9, 'max_depth': 6, 'featuresCol': 'features', 'objective': 'binary:logistic', 'predictionCol': 'prediction', 'eta': 0.5, 'nworkers': 4, 'min_child_weight': 3.0, 'silent': 0, 'subsample': 0.9}\n"
     ]
    },
    {
     "name": "stdout",
     "output_type": "stream",
     "text": [
      "LOG-LOSS: 0.5000752351752623, ROC-AUC: 0.7390350289456487                         \n",
      "SPACE:                                                                            \n",
      "{'eval_metric': 'logloss', 'labelCol': 'label', 'gamma': 8.0, 'num_round': 100, 'nthread': 1, 'colsample_bytree': 0.9, 'max_depth': 6, 'featuresCol': 'features', 'objective': 'binary:logistic', 'predictionCol': 'prediction', 'eta': 0.5, 'nworkers': 4, 'min_child_weight': 3.0, 'silent': 0, 'subsample': 0.9}\n",
      "LOG-LOSS: 0.5003470672616955, ROC-AUC: 0.7384995442260011                         \n",
      "SPACE:                                                                            \n",
      "{'eval_metric': 'logloss', 'labelCol': 'label', 'gamma': 6.0, 'num_round': 100, 'nthread': 1, 'colsample_bytree': 0.9, 'max_depth': 6, 'featuresCol': 'features', 'objective': 'binary:logistic', 'predictionCol': 'prediction', 'eta': 0.5, 'nworkers': 4, 'min_child_weight': 3.0, 'silent': 0, 'subsample': 0.9}\n",
      "LOG-LOSS: 0.5009899875883698, ROC-AUC: 0.7375409889341322                         \n",
      "100%|██████████| 20/20 [33:53<00:00, 101.68s/trial, best loss: 0.5000752351752623]\n"
     ]
    }
   ],
   "source": [
    "gamma_choice = [3., 4., 5., 6., 8., 10.]\n",
    "\n",
    "space = {\n",
    "    # Optimize\n",
    "    'gamma': hp.choice('gamma', gamma_choice),\n",
    "    \n",
    "    # Fixed    \n",
    "    'subsample': baseline_params['subsample'],\n",
    "    'colsample_bytree': baseline_params['colsample_bytree'],\n",
    "    'num_round': num_round,\n",
    "    'eta': eta,\n",
    "    'min_child_weight': min_child_weight,\n",
    "    'max_depth': max_depth,\n",
    "    \n",
    "    **static_params\n",
    "}\n",
    "\n",
    "\n",
    "trials = Trials()\n",
    "best = fmin(fn=objective,\n",
    "            space=space,\n",
    "            algo=tpe.suggest,\n",
    "            max_evals=20,\n",
    "            trials=trials)"
   ]
  },
  {
   "cell_type": "code",
   "execution_count": 54,
   "metadata": {},
   "outputs": [],
   "source": [
    "gamma = gamma_choice[best['gamma']]"
   ]
  },
  {
   "cell_type": "markdown",
   "metadata": {},
   "source": [
    "#### Tune subsample, colsample_bytree"
   ]
  },
  {
   "cell_type": "code",
   "execution_count": 58,
   "metadata": {},
   "outputs": [
    {
     "name": "stdout",
     "output_type": "stream",
     "text": [
      "SPACE:                                                \n",
      "{'eval_metric': 'logloss', 'labelCol': 'label', 'gamma': 8.0, 'num_round': 100, 'nthread': 1, 'colsample_bytree': 0.7, 'max_depth': 6, 'featuresCol': 'features', 'objective': 'binary:logistic', 'predictionCol': 'prediction', 'eta': 0.5, 'nworkers': 4, 'min_child_weight': 3.0, 'silent': 0, 'subsample': 0.3}\n",
      "LOG-LOSS: 0.5025602173681574, ROC-AUC: 0.7357319554397082\n",
      "SPACE:                                                                          \n",
      "{'eval_metric': 'logloss', 'labelCol': 'label', 'gamma': 8.0, 'num_round': 100, 'nthread': 1, 'colsample_bytree': 0.5, 'max_depth': 6, 'featuresCol': 'features', 'objective': 'binary:logistic', 'predictionCol': 'prediction', 'eta': 0.5, 'nworkers': 4, 'min_child_weight': 3.0, 'silent': 0, 'subsample': 0.3}\n",
      "LOG-LOSS: 0.5023020947512918, ROC-AUC: 0.7360994545302626                       \n",
      "SPACE:                                                                          \n",
      "{'eval_metric': 'logloss', 'labelCol': 'label', 'gamma': 8.0, 'num_round': 100, 'nthread': 1, 'colsample_bytree': 0.7, 'max_depth': 6, 'featuresCol': 'features', 'objective': 'binary:logistic', 'predictionCol': 'prediction', 'eta': 0.5, 'nworkers': 4, 'min_child_weight': 3.0, 'silent': 0, 'subsample': 0.5}\n",
      "LOG-LOSS: 0.5011644402638531, ROC-AUC: 0.7372502122405656                       \n",
      "SPACE:                                                                          \n",
      "{'eval_metric': 'logloss', 'labelCol': 'label', 'gamma': 8.0, 'num_round': 100, 'nthread': 1, 'colsample_bytree': 0.5, 'max_depth': 6, 'featuresCol': 'features', 'objective': 'binary:logistic', 'predictionCol': 'prediction', 'eta': 0.5, 'nworkers': 4, 'min_child_weight': 3.0, 'silent': 0, 'subsample': 1.0}\n",
      "LOG-LOSS: 0.5009116914514531, ROC-AUC: 0.737781526875096                        \n",
      "SPACE:                                                                          \n",
      "{'eval_metric': 'logloss', 'labelCol': 'label', 'gamma': 8.0, 'num_round': 100, 'nthread': 1, 'colsample_bytree': 0.4, 'max_depth': 6, 'featuresCol': 'features', 'objective': 'binary:logistic', 'predictionCol': 'prediction', 'eta': 0.5, 'nworkers': 4, 'min_child_weight': 3.0, 'silent': 0, 'subsample': 0.5}\n",
      "LOG-LOSS: 0.5012307022029115, ROC-AUC: 0.7374456989238383                       \n",
      "SPACE:                                                                          \n",
      "{'eval_metric': 'logloss', 'labelCol': 'label', 'gamma': 8.0, 'num_round': 100, 'nthread': 1, 'colsample_bytree': 0.4, 'max_depth': 6, 'featuresCol': 'features', 'objective': 'binary:logistic', 'predictionCol': 'prediction', 'eta': 0.5, 'nworkers': 4, 'min_child_weight': 3.0, 'silent': 0, 'subsample': 0.7}\n",
      "LOG-LOSS: 0.501238549961023, ROC-AUC: 0.7373544649081563                        \n",
      "SPACE:                                                                          \n",
      "{'eval_metric': 'logloss', 'labelCol': 'label', 'gamma': 8.0, 'num_round': 100, 'nthread': 1, 'colsample_bytree': 0.3, 'max_depth': 6, 'featuresCol': 'features', 'objective': 'binary:logistic', 'predictionCol': 'prediction', 'eta': 0.5, 'nworkers': 4, 'min_child_weight': 3.0, 'silent': 0, 'subsample': 0.5}\n",
      "LOG-LOSS: 0.5017368334049103, ROC-AUC: 0.7366947135020845                       \n",
      "SPACE:                                                                          \n",
      "{'eval_metric': 'logloss', 'labelCol': 'label', 'gamma': 8.0, 'num_round': 100, 'nthread': 1, 'colsample_bytree': 0.7, 'max_depth': 6, 'featuresCol': 'features', 'objective': 'binary:logistic', 'predictionCol': 'prediction', 'eta': 0.5, 'nworkers': 4, 'min_child_weight': 3.0, 'silent': 0, 'subsample': 0.7}\n",
      "LOG-LOSS: 0.5010017716664606, ROC-AUC: 0.7376632815464356                       \n",
      "SPACE:                                                                          \n",
      "{'eval_metric': 'logloss', 'labelCol': 'label', 'gamma': 8.0, 'num_round': 100, 'nthread': 1, 'colsample_bytree': 0.3, 'max_depth': 6, 'featuresCol': 'features', 'objective': 'binary:logistic', 'predictionCol': 'prediction', 'eta': 0.5, 'nworkers': 4, 'min_child_weight': 3.0, 'silent': 0, 'subsample': 1.0}\n",
      "LOG-LOSS: 0.501233052715898, ROC-AUC: 0.7374863595471177                        \n",
      "SPACE:                                                                          \n",
      "{'eval_metric': 'logloss', 'labelCol': 'label', 'gamma': 8.0, 'num_round': 100, 'nthread': 1, 'colsample_bytree': 0.7, 'max_depth': 6, 'featuresCol': 'features', 'objective': 'binary:logistic', 'predictionCol': 'prediction', 'eta': 0.5, 'nworkers': 4, 'min_child_weight': 3.0, 'silent': 0, 'subsample': 0.5}\n",
      "LOG-LOSS: 0.5015032327270996, ROC-AUC: 0.736998122019068                        \n",
      "SPACE:                                                                           \n",
      "{'eval_metric': 'logloss', 'labelCol': 'label', 'gamma': 8.0, 'num_round': 100, 'nthread': 1, 'colsample_bytree': 0.4, 'max_depth': 6, 'featuresCol': 'features', 'objective': 'binary:logistic', 'predictionCol': 'prediction', 'eta': 0.5, 'nworkers': 4, 'min_child_weight': 3.0, 'silent': 0, 'subsample': 0.5}\n",
      "LOG-LOSS: 0.5016450681026234, ROC-AUC: 0.7367829779268833                        \n",
      "SPACE:                                                                           \n",
      "{'eval_metric': 'logloss', 'labelCol': 'label', 'gamma': 8.0, 'num_round': 100, 'nthread': 1, 'colsample_bytree': 0.5, 'max_depth': 6, 'featuresCol': 'features', 'objective': 'binary:logistic', 'predictionCol': 'prediction', 'eta': 0.5, 'nworkers': 4, 'min_child_weight': 3.0, 'silent': 0, 'subsample': 1.0}\n",
      "LOG-LOSS: 0.5007207660908021, ROC-AUC: 0.7379010702145296                        \n",
      "SPACE:                                                                           \n",
      "{'eval_metric': 'logloss', 'labelCol': 'label', 'gamma': 8.0, 'num_round': 100, 'nthread': 1, 'colsample_bytree': 0.3, 'max_depth': 6, 'featuresCol': 'features', 'objective': 'binary:logistic', 'predictionCol': 'prediction', 'eta': 0.5, 'nworkers': 4, 'min_child_weight': 3.0, 'silent': 0, 'subsample': 0.3}\n",
      "LOG-LOSS: 0.5022846058951512, ROC-AUC: 0.736069416272797                         \n",
      "SPACE:                                                                           \n",
      "{'eval_metric': 'logloss', 'labelCol': 'label', 'gamma': 8.0, 'num_round': 100, 'nthread': 1, 'colsample_bytree': 0.4, 'max_depth': 6, 'featuresCol': 'features', 'objective': 'binary:logistic', 'predictionCol': 'prediction', 'eta': 0.5, 'nworkers': 4, 'min_child_weight': 3.0, 'silent': 0, 'subsample': 0.7}\n",
      "LOG-LOSS: 0.5010571112593889, ROC-AUC: 0.7376515082540838                        \n",
      "SPACE:                                                                           \n",
      "{'eval_metric': 'logloss', 'labelCol': 'label', 'gamma': 8.0, 'num_round': 100, 'nthread': 1, 'colsample_bytree': 0.3, 'max_depth': 6, 'featuresCol': 'features', 'objective': 'binary:logistic', 'predictionCol': 'prediction', 'eta': 0.5, 'nworkers': 4, 'min_child_weight': 3.0, 'silent': 0, 'subsample': 0.3}\n",
      "LOG-LOSS: 0.5022162333891342, ROC-AUC: 0.7360565026920824                        \n",
      "SPACE:                                                                           \n",
      "{'eval_metric': 'logloss', 'labelCol': 'label', 'gamma': 8.0, 'num_round': 100, 'nthread': 1, 'colsample_bytree': 0.5, 'max_depth': 6, 'featuresCol': 'features', 'objective': 'binary:logistic', 'predictionCol': 'prediction', 'eta': 0.5, 'nworkers': 4, 'min_child_weight': 3.0, 'silent': 0, 'subsample': 1.0}\n",
      "LOG-LOSS: 0.5009630642863498, ROC-AUC: 0.7375830176413558                        \n",
      "SPACE:                                                                           \n",
      "{'eval_metric': 'logloss', 'labelCol': 'label', 'gamma': 8.0, 'num_round': 100, 'nthread': 1, 'colsample_bytree': 0.5, 'max_depth': 6, 'featuresCol': 'features', 'objective': 'binary:logistic', 'predictionCol': 'prediction', 'eta': 0.5, 'nworkers': 4, 'min_child_weight': 3.0, 'silent': 0, 'subsample': 0.5}\n",
      "LOG-LOSS: 0.5012893891893272, ROC-AUC: 0.737286029105123                         \n",
      "SPACE:                                                                           \n",
      "{'eval_metric': 'logloss', 'labelCol': 'label', 'gamma': 8.0, 'num_round': 100, 'nthread': 1, 'colsample_bytree': 0.4, 'max_depth': 6, 'featuresCol': 'features', 'objective': 'binary:logistic', 'predictionCol': 'prediction', 'eta': 0.5, 'nworkers': 4, 'min_child_weight': 3.0, 'silent': 0, 'subsample': 1.0}\n"
     ]
    },
    {
     "name": "stdout",
     "output_type": "stream",
     "text": [
      "LOG-LOSS: 0.5011867955355729, ROC-AUC: 0.7371731031692652                        \n",
      "SPACE:                                                                           \n",
      "{'eval_metric': 'logloss', 'labelCol': 'label', 'gamma': 8.0, 'num_round': 100, 'nthread': 1, 'colsample_bytree': 0.7, 'max_depth': 6, 'featuresCol': 'features', 'objective': 'binary:logistic', 'predictionCol': 'prediction', 'eta': 0.5, 'nworkers': 4, 'min_child_weight': 3.0, 'silent': 0, 'subsample': 0.5}\n",
      "LOG-LOSS: 0.5015032327270996, ROC-AUC: 0.7369981220190694                        \n",
      "SPACE:                                                                           \n",
      "{'eval_metric': 'logloss', 'labelCol': 'label', 'gamma': 8.0, 'num_round': 100, 'nthread': 1, 'colsample_bytree': 0.3, 'max_depth': 6, 'featuresCol': 'features', 'objective': 'binary:logistic', 'predictionCol': 'prediction', 'eta': 0.5, 'nworkers': 4, 'min_child_weight': 3.0, 'silent': 0, 'subsample': 1.0}\n",
      "LOG-LOSS: 0.5014236661386957, ROC-AUC: 0.7369951912035367                        \n",
      "100%|██████████| 20/20 [26:42<00:00, 80.12s/trial, best loss: 0.5007207660908021]\n"
     ]
    }
   ],
   "source": [
    "subsample_choice = [0.3, 0.5 , 0.7, 1.0]\n",
    "colsample_bytree_choice = [0.3, 0.4, 0.5 , 0.7]\n",
    "\n",
    "space = {\n",
    "    # Optimize\n",
    "    'subsample': hp.choice('subsample', subsample_choice),\n",
    "    'colsample_bytree': hp.choice('colsample_bytree', colsample_bytree_choice),\n",
    "    \n",
    "    # Fixed    \n",
    "    \n",
    "    'num_round': num_round,\n",
    "    'eta': eta,\n",
    "    'min_child_weight': min_child_weight,\n",
    "    'max_depth': max_depth,\n",
    "    'gamma': gamma,\n",
    "    \n",
    "    \n",
    "    **static_params\n",
    "}\n",
    "\n",
    "\n",
    "trials = Trials()\n",
    "best = fmin(fn=objective,\n",
    "            space=space,\n",
    "            algo=tpe.suggest,\n",
    "            max_evals=20,\n",
    "            trials=trials)"
   ]
  },
  {
   "cell_type": "code",
   "execution_count": 59,
   "metadata": {},
   "outputs": [],
   "source": [
    "subsample = subsample_choice[best['subsample']]\n",
    "colsample_bytree = colsample_bytree_choice[best['colsample_bytree']]"
   ]
  },
  {
   "cell_type": "markdown",
   "metadata": {},
   "source": [
    "### Tune regularization parameters\n",
    "\n",
    "> Tune regularization parameters (lambda, alpha) for xgboost which can help reduce model complexity and enhance performance."
   ]
  },
  {
   "cell_type": "code",
   "execution_count": 61,
   "metadata": {},
   "outputs": [
    {
     "name": "stdout",
     "output_type": "stream",
     "text": [
      "SPACE:                                                \n",
      "{'eval_metric': 'logloss', 'labelCol': 'label', 'gamma': 8.0, 'num_round': 100, 'nthread': 1, 'lambda': 3.0, 'colsample_bytree': 0.5, 'alpha': 0.0, 'subsample': 1.0, 'featuresCol': 'features', 'objective': 'binary:logistic', 'predictionCol': 'prediction', 'eta': 0.5, 'nworkers': 4, 'min_child_weight': 3.0, 'silent': 0, 'max_depth': 6}\n",
      "LOG-LOSS: 0.5006739883142302, ROC-AUC: 0.7380464340087293\n",
      "SPACE:                                                                          \n",
      "{'eval_metric': 'logloss', 'labelCol': 'label', 'gamma': 8.0, 'num_round': 100, 'nthread': 1, 'lambda': 1.0, 'colsample_bytree': 0.5, 'alpha': 3.0, 'subsample': 1.0, 'featuresCol': 'features', 'objective': 'binary:logistic', 'predictionCol': 'prediction', 'eta': 0.5, 'nworkers': 4, 'min_child_weight': 3.0, 'silent': 0, 'max_depth': 6}\n",
      "LOG-LOSS: 0.5004435368627966, ROC-AUC: 0.7382430740853558                       \n",
      "SPACE:                                                                          \n",
      "{'eval_metric': 'logloss', 'labelCol': 'label', 'gamma': 8.0, 'num_round': 100, 'nthread': 1, 'lambda': 0.0, 'colsample_bytree': 0.5, 'alpha': 0.1, 'subsample': 1.0, 'featuresCol': 'features', 'objective': 'binary:logistic', 'predictionCol': 'prediction', 'eta': 0.5, 'nworkers': 4, 'min_child_weight': 3.0, 'silent': 0, 'max_depth': 6}\n",
      "LOG-LOSS: 0.5008579080395991, ROC-AUC: 0.7377332896400045                       \n",
      "SPACE:                                                                          \n",
      "{'eval_metric': 'logloss', 'labelCol': 'label', 'gamma': 8.0, 'num_round': 100, 'nthread': 1, 'lambda': 3.0, 'colsample_bytree': 0.5, 'alpha': 0.1, 'subsample': 1.0, 'featuresCol': 'features', 'objective': 'binary:logistic', 'predictionCol': 'prediction', 'eta': 0.5, 'nworkers': 4, 'min_child_weight': 3.0, 'silent': 0, 'max_depth': 6}\n",
      "LOG-LOSS: 0.5006274149815177, ROC-AUC: 0.7381266393267945                       \n",
      "SPACE:                                                                          \n",
      "{'eval_metric': 'logloss', 'labelCol': 'label', 'gamma': 8.0, 'num_round': 100, 'nthread': 1, 'lambda': 0.0, 'colsample_bytree': 0.5, 'alpha': 0.01, 'subsample': 1.0, 'featuresCol': 'features', 'objective': 'binary:logistic', 'predictionCol': 'prediction', 'eta': 0.5, 'nworkers': 4, 'min_child_weight': 3.0, 'silent': 0, 'max_depth': 6}\n",
      "LOG-LOSS: 0.5003050599244687, ROC-AUC: 0.7386906839838651                       \n",
      "SPACE:                                                                          \n",
      "{'eval_metric': 'logloss', 'labelCol': 'label', 'gamma': 8.0, 'num_round': 100, 'nthread': 1, 'lambda': 0.1, 'colsample_bytree': 0.5, 'alpha': 0.01, 'subsample': 1.0, 'featuresCol': 'features', 'objective': 'binary:logistic', 'predictionCol': 'prediction', 'eta': 0.5, 'nworkers': 4, 'min_child_weight': 3.0, 'silent': 0, 'max_depth': 6}\n",
      "LOG-LOSS: 0.5009253038282615, ROC-AUC: 0.7377147276541304                       \n",
      "SPACE:                                                                          \n",
      "{'eval_metric': 'logloss', 'labelCol': 'label', 'gamma': 8.0, 'num_round': 100, 'nthread': 1, 'lambda': 0.0, 'colsample_bytree': 0.5, 'alpha': 0.01, 'subsample': 1.0, 'featuresCol': 'features', 'objective': 'binary:logistic', 'predictionCol': 'prediction', 'eta': 0.5, 'nworkers': 4, 'min_child_weight': 3.0, 'silent': 0, 'max_depth': 6}\n",
      "LOG-LOSS: 0.5006742548610048, ROC-AUC: 0.7381782777694949                       \n",
      "SPACE:                                                                          \n",
      "{'eval_metric': 'logloss', 'labelCol': 'label', 'gamma': 8.0, 'num_round': 100, 'nthread': 1, 'lambda': 1.0, 'colsample_bytree': 0.5, 'alpha': 3.0, 'subsample': 1.0, 'featuresCol': 'features', 'objective': 'binary:logistic', 'predictionCol': 'prediction', 'eta': 0.5, 'nworkers': 4, 'min_child_weight': 3.0, 'silent': 0, 'max_depth': 6}\n",
      "LOG-LOSS: 0.5006594166896577, ROC-AUC: 0.7380900040170293                       \n",
      "SPACE:                                                                          \n",
      "{'eval_metric': 'logloss', 'labelCol': 'label', 'gamma': 8.0, 'num_round': 100, 'nthread': 1, 'lambda': 0.0, 'colsample_bytree': 0.5, 'alpha': 1.0, 'subsample': 1.0, 'featuresCol': 'features', 'objective': 'binary:logistic', 'predictionCol': 'prediction', 'eta': 0.5, 'nworkers': 4, 'min_child_weight': 3.0, 'silent': 0, 'max_depth': 6}\n",
      "LOG-LOSS: 0.500774029141873, ROC-AUC: 0.7379374102765671                        \n",
      "SPACE:                                                                          \n",
      "{'eval_metric': 'logloss', 'labelCol': 'label', 'gamma': 8.0, 'num_round': 100, 'nthread': 1, 'lambda': 0.0, 'colsample_bytree': 0.5, 'alpha': 3.0, 'subsample': 1.0, 'featuresCol': 'features', 'objective': 'binary:logistic', 'predictionCol': 'prediction', 'eta': 0.5, 'nworkers': 4, 'min_child_weight': 3.0, 'silent': 0, 'max_depth': 6}\n",
      "LOG-LOSS: 0.5004322427404301, ROC-AUC: 0.7383149901113811                       \n",
      "SPACE:                                                                           \n",
      "{'eval_metric': 'logloss', 'labelCol': 'label', 'gamma': 8.0, 'num_round': 100, 'nthread': 1, 'lambda': 0.01, 'colsample_bytree': 0.5, 'alpha': 0.1, 'subsample': 1.0, 'featuresCol': 'features', 'objective': 'binary:logistic', 'predictionCol': 'prediction', 'eta': 0.5, 'nworkers': 4, 'min_child_weight': 3.0, 'silent': 0, 'max_depth': 6}\n",
      "LOG-LOSS: 0.5006502963303171, ROC-AUC: 0.7380991445167575                        \n",
      "SPACE:                                                                           \n",
      "{'eval_metric': 'logloss', 'labelCol': 'label', 'gamma': 8.0, 'num_round': 100, 'nthread': 1, 'lambda': 0.01, 'colsample_bytree': 0.5, 'alpha': 0.0, 'subsample': 1.0, 'featuresCol': 'features', 'objective': 'binary:logistic', 'predictionCol': 'prediction', 'eta': 0.5, 'nworkers': 4, 'min_child_weight': 3.0, 'silent': 0, 'max_depth': 6}\n",
      "LOG-LOSS: 0.5008861102520593, ROC-AUC: 0.7379710510959677                        \n",
      "SPACE:                                                                           \n",
      "{'eval_metric': 'logloss', 'labelCol': 'label', 'gamma': 8.0, 'num_round': 100, 'nthread': 1, 'lambda': 1.0, 'colsample_bytree': 0.5, 'alpha': 1.0, 'subsample': 1.0, 'featuresCol': 'features', 'objective': 'binary:logistic', 'predictionCol': 'prediction', 'eta': 0.5, 'nworkers': 4, 'min_child_weight': 3.0, 'silent': 0, 'max_depth': 6}\n",
      "LOG-LOSS: 0.5004116900510587, ROC-AUC: 0.7383949004129842                        \n",
      "SPACE:                                                                           \n",
      "{'eval_metric': 'logloss', 'labelCol': 'label', 'gamma': 8.0, 'num_round': 100, 'nthread': 1, 'lambda': 0.0, 'colsample_bytree': 0.5, 'alpha': 1.0, 'subsample': 1.0, 'featuresCol': 'features', 'objective': 'binary:logistic', 'predictionCol': 'prediction', 'eta': 0.5, 'nworkers': 4, 'min_child_weight': 3.0, 'silent': 0, 'max_depth': 6}\n",
      "LOG-LOSS: 0.5004363350914417, ROC-AUC: 0.7384836245146006                        \n",
      "SPACE:                                                                           \n",
      "{'eval_metric': 'logloss', 'labelCol': 'label', 'gamma': 8.0, 'num_round': 100, 'nthread': 1, 'lambda': 0.1, 'colsample_bytree': 0.5, 'alpha': 1.0, 'subsample': 1.0, 'featuresCol': 'features', 'objective': 'binary:logistic', 'predictionCol': 'prediction', 'eta': 0.5, 'nworkers': 4, 'min_child_weight': 3.0, 'silent': 0, 'max_depth': 6}\n",
      "LOG-LOSS: 0.5004159213965159, ROC-AUC: 0.7384421266365926                        \n",
      "SPACE:                                                                           \n",
      "{'eval_metric': 'logloss', 'labelCol': 'label', 'gamma': 8.0, 'num_round': 100, 'nthread': 1, 'lambda': 0.01, 'colsample_bytree': 0.5, 'alpha': 3.0, 'subsample': 1.0, 'featuresCol': 'features', 'objective': 'binary:logistic', 'predictionCol': 'prediction', 'eta': 0.5, 'nworkers': 4, 'min_child_weight': 3.0, 'silent': 0, 'max_depth': 6}\n",
      "LOG-LOSS: 0.5005865387847832, ROC-AUC: 0.738210193432506                         \n",
      "SPACE:                                                                           \n",
      "{'eval_metric': 'logloss', 'labelCol': 'label', 'gamma': 8.0, 'num_round': 100, 'nthread': 1, 'lambda': 0.1, 'colsample_bytree': 0.5, 'alpha': 0.1, 'subsample': 1.0, 'featuresCol': 'features', 'objective': 'binary:logistic', 'predictionCol': 'prediction', 'eta': 0.5, 'nworkers': 4, 'min_child_weight': 3.0, 'silent': 0, 'max_depth': 6}\n"
     ]
    },
    {
     "name": "stdout",
     "output_type": "stream",
     "text": [
      "LOG-LOSS: 0.5008778673828328, ROC-AUC: 0.7378295327685568                        \n",
      "SPACE:                                                                           \n",
      "{'eval_metric': 'logloss', 'labelCol': 'label', 'gamma': 8.0, 'num_round': 100, 'nthread': 1, 'lambda': 0.01, 'colsample_bytree': 0.5, 'alpha': 1.0, 'subsample': 1.0, 'featuresCol': 'features', 'objective': 'binary:logistic', 'predictionCol': 'prediction', 'eta': 0.5, 'nworkers': 4, 'min_child_weight': 3.0, 'silent': 0, 'max_depth': 6}\n",
      "LOG-LOSS: 0.5004023270660688, ROC-AUC: 0.73852161703887                          \n",
      "SPACE:                                                                           \n",
      "{'eval_metric': 'logloss', 'labelCol': 'label', 'gamma': 8.0, 'num_round': 100, 'nthread': 1, 'lambda': 3.0, 'colsample_bytree': 0.5, 'alpha': 0.0, 'subsample': 1.0, 'featuresCol': 'features', 'objective': 'binary:logistic', 'predictionCol': 'prediction', 'eta': 0.5, 'nworkers': 4, 'min_child_weight': 3.0, 'silent': 0, 'max_depth': 6}\n",
      "LOG-LOSS: 0.5006739883142302, ROC-AUC: 0.7380464340087298                        \n",
      "SPACE:                                                                           \n",
      "{'eval_metric': 'logloss', 'labelCol': 'label', 'gamma': 8.0, 'num_round': 100, 'nthread': 1, 'lambda': 1.0, 'colsample_bytree': 0.5, 'alpha': 0.0, 'subsample': 1.0, 'featuresCol': 'features', 'objective': 'binary:logistic', 'predictionCol': 'prediction', 'eta': 0.5, 'nworkers': 4, 'min_child_weight': 3.0, 'silent': 0, 'max_depth': 6}\n",
      "LOG-LOSS: 0.5007207660908021, ROC-AUC: 0.7379010702145321                        \n",
      "100%|██████████| 20/20 [26:49<00:00, 80.50s/trial, best loss: 0.5003050599244687]\n"
     ]
    }
   ],
   "source": [
    "reg_lambda_choice = [0., 0.01, 0.1, 1., 3.]\n",
    "alpha_choice = [0., 0.01, 0.1, 1., 3.]\n",
    "\n",
    "space = {\n",
    "    # alpha\n",
    "    'alpha': hp.choice('alpha', alpha_choice),\n",
    "    'reg_lambda': hp.choice('reg_lambda', reg_lambda_choice),\n",
    "    \n",
    "    # Fixed    \n",
    "    \n",
    "    'num_round': num_round,\n",
    "    'eta': eta,\n",
    "    'min_child_weight': min_child_weight,\n",
    "    'max_depth': max_depth,\n",
    "    'gamma': gamma,\n",
    "    'subsample': subsample,\n",
    "    'colsample_bytree': colsample_bytree,\n",
    "    \n",
    "    \n",
    "    **static_params\n",
    "}\n",
    "\n",
    "\n",
    "trials = Trials()\n",
    "best = fmin(fn=objective,\n",
    "            space=space,\n",
    "            algo=tpe.suggest,\n",
    "            max_evals=20,\n",
    "            trials=trials)"
   ]
  },
  {
   "cell_type": "code",
   "execution_count": 62,
   "metadata": {},
   "outputs": [],
   "source": [
    "alpha = alpha_choice[best['alpha']]\n",
    "reg_lambda = reg_lambda_choice[best['reg_lambda']]"
   ]
  },
  {
   "cell_type": "code",
   "execution_count": 63,
   "metadata": {},
   "outputs": [
    {
     "data": {
      "text/plain": [
       "(0.01, 0.0)"
      ]
     },
     "execution_count": 63,
     "metadata": {},
     "output_type": "execute_result"
    }
   ],
   "source": [
    "alpha,reg_lambda"
   ]
  },
  {
   "cell_type": "markdown",
   "metadata": {},
   "source": [
    "### Lower the learning rate and decide the optimal parameters"
   ]
  },
  {
   "cell_type": "code",
   "execution_count": 66,
   "metadata": {},
   "outputs": [],
   "source": [
    "space = {\n",
    "    \n",
    "    'alpha': alpha, \n",
    "    'reg_lambda': reg_lambda,\n",
    "    'num_round': num_round,\n",
    "    'eta': eta,\n",
    "    'min_child_weight': min_child_weight,\n",
    "    'max_depth': max_depth,\n",
    "    'gamma': gamma,\n",
    "    'subsample': subsample,\n",
    "    'colsample_bytree': colsample_bytree,\n",
    "    \n",
    "    \n",
    "    **static_params\n",
    "}\n",
    "\n",
    "\n",
    "estimator_xgb = XGBoostEstimator(**space)\n",
    "model_xgb = estimator_xgb.fit(train_df)"
   ]
  },
  {
   "cell_type": "code",
   "execution_count": null,
   "metadata": {},
   "outputs": [],
   "source": []
  },
  {
   "cell_type": "markdown",
   "metadata": {},
   "source": [
    "---\n",
    "## LogisticRegression Tuning\n",
    "\n",
    "Подберем гиперпараметры для логрега из предыдущих практик"
   ]
  },
  {
   "cell_type": "code",
   "execution_count": 69,
   "metadata": {},
   "outputs": [],
   "source": [
    "from pyspark.ml.classification import LogisticRegression"
   ]
  },
  {
   "cell_type": "code",
   "execution_count": 74,
   "metadata": {},
   "outputs": [],
   "source": [
    "def objective(space):\n",
    "    estimator = LogisticRegression(**space)\n",
    "    success = False\n",
    "    attempts = 0\n",
    "    model = None\n",
    "    while not success and attempts < 2:\n",
    "        try:\n",
    "            model = estimator.fit(train_df)\n",
    "            success = True\n",
    "        except Exception as e:\n",
    "            attempts += 1\n",
    "            print(e)\n",
    "            print('Try again')\n",
    "        \n",
    "    log_loss = logloss(model, val_df, probabilities_col='probability')\n",
    "    roc_auc = rocauc(model, val_df, probabilities_col='probability')\n",
    "    \n",
    "    print('LOG-LOSS: {}, ROC-AUC: {}'.format(log_loss, roc_auc))\n",
    "\n",
    "    return {'loss': log_loss, 'rocauc': roc_auc, 'status': STATUS_OK }"
   ]
  },
  {
   "cell_type": "code",
   "execution_count": 77,
   "metadata": {},
   "outputs": [],
   "source": [
    "maxIter_choice = [50, 100, 30]\n",
    "regParam_choice = [0.0, 0.01, 0.1, 1.0]\n",
    "elasticNetParam_choice = [0.0, 0.01, 0.1, 0.3, 1.0]\n",
    "\n",
    "space = {\n",
    "    'maxIter': hp.choice('maxIter', max_iter_choice),\n",
    "    'regParam': hp.choice('regParam', reg_param_choice),\n",
    "    'elasticNetParam': hp.choice('elasticNetParam', elastic_net_param_choice)\n",
    "}"
   ]
  },
  {
   "cell_type": "code",
   "execution_count": 78,
   "metadata": {
    "scrolled": false
   },
   "outputs": [
    {
     "name": "stdout",
     "output_type": "stream",
     "text": [
      "LOG-LOSS: 0.5571442610423667, ROC-AUC: 0.6989147257387636\n",
      "LOG-LOSS: 0.5746449703432287, ROC-AUC: 0.5                                      \n",
      "LOG-LOSS: 0.5312851113935829, ROC-AUC: 0.7015632803530526                       \n",
      "LOG-LOSS: 0.5293335042413531, ROC-AUC: 0.7015664518378846                       \n",
      "LOG-LOSS: 0.5353396802035896, ROC-AUC: 0.6999577847856365                       \n",
      "LOG-LOSS: 0.5312851108129653, ROC-AUC: 0.7015632804301422                       \n",
      "LOG-LOSS: 0.5746449703432287, ROC-AUC: 0.5                                      \n",
      "LOG-LOSS: 0.5583010275976711, ROC-AUC: 0.6745949385680562                       \n",
      "LOG-LOSS: 0.5337866944299171, ROC-AUC: 0.6987269972099683                       \n",
      "LOG-LOSS: 0.5337866944299171, ROC-AUC: 0.6987269972099659                       \n",
      "LOG-LOSS: 0.5312851115442675, ROC-AUC: 0.7015632803530514                        \n",
      "LOG-LOSS: 0.5571442610423667, ROC-AUC: 0.6989147257387659                        \n",
      "LOG-LOSS: 0.5293335042413531, ROC-AUC: 0.7015664518378826                        \n",
      "LOG-LOSS: 0.5312851114105444, ROC-AUC: 0.7015632803530527                        \n",
      "LOG-LOSS: 0.5312851112882129, ROC-AUC: 0.7015632803530529                        \n",
      "LOG-LOSS: 0.5746449703432287, ROC-AUC: 0.5                                       \n",
      "LOG-LOSS: 0.5746449703432287, ROC-AUC: 0.5                                       \n",
      "LOG-LOSS: 0.5285773091805317, ROC-AUC: 0.701902802832441                         \n",
      "LOG-LOSS: 0.5571442610423667, ROC-AUC: 0.6989147257387637                        \n",
      "LOG-LOSS: 0.5337866944299171, ROC-AUC: 0.6987269972099676                        \n",
      "LOG-LOSS: 0.5285780386073967, ROC-AUC: 0.7018996727439618                        \n",
      "LOG-LOSS: 0.5285780386073967, ROC-AUC: 0.7018996727439645                        \n",
      "LOG-LOSS: 0.5285780386073967, ROC-AUC: 0.7018996727439617                        \n",
      "LOG-LOSS: 0.5285780386073967, ROC-AUC: 0.7018996727439606                        \n",
      "LOG-LOSS: 0.5285780386073967, ROC-AUC: 0.7018996727439639                        \n",
      "LOG-LOSS: 0.5285780386073967, ROC-AUC: 0.7018996727439643                        \n",
      "LOG-LOSS: 0.5321930648345642, ROC-AUC: 0.6990304958430358                        \n",
      "LOG-LOSS: 0.5285780386073967, ROC-AUC: 0.7018996727439611                        \n",
      "LOG-LOSS: 0.5285780386073967, ROC-AUC: 0.701899672743963                         \n",
      "LOG-LOSS: 0.5285773091805317, ROC-AUC: 0.7019028028324371                        \n",
      "LOG-LOSS: 0.5285773091805317, ROC-AUC: 0.7019028028324392                        \n",
      "LOG-LOSS: 0.527712591080482, ROC-AUC: 0.7010815331872573                         \n",
      "LOG-LOSS: 0.527712591080482, ROC-AUC: 0.701081533187258                          \n",
      "LOG-LOSS: 0.527712591080482, ROC-AUC: 0.7010815331872581                        \n",
      "LOG-LOSS: 0.527712591080482, ROC-AUC: 0.701081533187258                         \n",
      "LOG-LOSS: 0.5635359881095358, ROC-AUC: 0.6897289642265151                       \n",
      "100%|██████████| 36/36 [10:49<00:00, 18.03s/trial, best loss: 0.527712591080482]\n"
     ]
    }
   ],
   "source": [
    "trials = Trials()\n",
    "best = fmin(\n",
    "    fn=objective,\n",
    "    space=space,\n",
    "    algo=tpe.suggest,\n",
    "    max_evals=36,\n",
    "    trials=trials\n",
    ")"
   ]
  },
  {
   "cell_type": "code",
   "execution_count": 79,
   "metadata": {},
   "outputs": [],
   "source": [
    "maxIter = maxIter_choice[best['maxIter']]\n",
    "regParam = regParam_choice[best['regParam']]\n",
    "elasticNetParam = elasticNetParam_choice[best['elasticNetParam']]"
   ]
  },
  {
   "cell_type": "code",
   "execution_count": 80,
   "metadata": {},
   "outputs": [],
   "source": [
    "logreg = LogisticRegression(maxIter=maxIter, regParam=regParam, elasticNetParam=elasticNetParam)\n",
    "model_logreg = logreg.fit(train_df)"
   ]
  },
  {
   "cell_type": "markdown",
   "metadata": {},
   "source": [
    "---\n",
    "## Optional [MongoTrials](https://hyperopt.github.io/hyperopt/scaleout/mongodb/)\n",
    "\n",
    "> For parallel search, hyperopt includes a MongoTrials implementation that supports asynchronous updates.\n",
    "\n",
    "**TLDR** Преимущества использования `MongoTrials`:\n",
    "* `MongoTrials` позволяет параллельно запускать несколько вычислений целевой функции\n",
    "* Динамический уровень параллелизма - можно добавлять/удалять воркеров, которые вычисляют целевую функцию\n",
    "* Все результаты сохраняются в БД - история запусков никуда не потеряется\n",
    "\n",
    "*За выполнение данного задания можно получить дополнительно +0.4 к итоговому баллу*"
   ]
  },
  {
   "cell_type": "markdown",
   "metadata": {},
   "source": [
    "### XGBoost Tuning"
   ]
  },
  {
   "cell_type": "code",
   "execution_count": null,
   "metadata": {},
   "outputs": [],
   "source": [
    "######################################\n",
    "######### YOUR CODE HERE #############\n",
    "######################################"
   ]
  },
  {
   "cell_type": "markdown",
   "metadata": {},
   "source": [
    "# Results\n",
    "\n",
    "Подведем итоги.\n",
    "\n",
    "Обучите модели с найденными (оптимальными) гиперпараметрами и сделайте справнение на отложенной выборке"
   ]
  },
  {
   "cell_type": "code",
   "execution_count": 82,
   "metadata": {},
   "outputs": [],
   "source": [
    "logreg_metrics = {\n",
    "    'logloss': logloss(model_logreg, test_df, probabilities_col='probability'),\n",
    "    'rocauc': rocauc(model_logreg, test_df, probabilities_col='probability')\n",
    "}\n",
    "\n",
    "all_metrics['logreg_metrics'] = logreg_metrics"
   ]
  },
  {
   "cell_type": "code",
   "execution_count": 83,
   "metadata": {},
   "outputs": [],
   "source": [
    "xgb_metrics = {\n",
    "    'logloss': logloss(model_xgb, test_df, probabilities_col='probabilities'),\n",
    "    'rocauc': rocauc(model_xgb, test_df, probabilities_col='probabilities')\n",
    "}\n",
    "\n",
    "all_metrics['xgb_metrics'] = xgb_metrics"
   ]
  },
  {
   "cell_type": "code",
   "execution_count": 84,
   "metadata": {},
   "outputs": [
    {
     "data": {
      "text/plain": [
       "{'logreg_metrics': {'logloss': 0.5308505896357181,\n",
       "  'rocauc': 0.6991716617166996},\n",
       " 'xgb baseline': {'logloss': 0.5145790867988863, 'rocauc': 0.7237139054629188},\n",
       " 'xgb_metrics': {'logloss': 0.504730755829568, 'rocauc': 0.7365324328873123}}"
      ]
     },
     "execution_count": 84,
     "metadata": {},
     "output_type": "execute_result"
    }
   ],
   "source": [
    "all_metrics"
   ]
  },
  {
   "cell_type": "markdown",
   "metadata": {},
   "source": [
    "Итоговая таблица"
   ]
  },
  {
   "cell_type": "code",
   "execution_count": 86,
   "metadata": {},
   "outputs": [
    {
     "data": {
      "text/html": [
       "<div>\n",
       "<style scoped>\n",
       "    .dataframe tbody tr th:only-of-type {\n",
       "        vertical-align: middle;\n",
       "    }\n",
       "\n",
       "    .dataframe tbody tr th {\n",
       "        vertical-align: top;\n",
       "    }\n",
       "\n",
       "    .dataframe thead th {\n",
       "        text-align: right;\n",
       "    }\n",
       "</style>\n",
       "<table border=\"1\" class=\"dataframe\">\n",
       "  <thead>\n",
       "    <tr style=\"text-align: right;\">\n",
       "      <th></th>\n",
       "      <th>logreg_metrics ate %</th>\n",
       "      <th>metric</th>\n",
       "      <th>xgb_metrics ate %</th>\n",
       "    </tr>\n",
       "  </thead>\n",
       "  <tbody>\n",
       "    <tr>\n",
       "      <th>0</th>\n",
       "      <td>3.162100</td>\n",
       "      <td>logloss</td>\n",
       "      <td>-1.913861</td>\n",
       "    </tr>\n",
       "    <tr>\n",
       "      <th>1</th>\n",
       "      <td>-3.391153</td>\n",
       "      <td>rocauc</td>\n",
       "      <td>1.771215</td>\n",
       "    </tr>\n",
       "  </tbody>\n",
       "</table>\n",
       "</div>"
      ],
      "text/plain": [
       "   logreg_metrics ate %   metric  xgb_metrics ate %\n",
       "0              3.162100  logloss          -1.913861\n",
       "1             -3.391153   rocauc           1.771215"
      ]
     },
     "execution_count": 86,
     "metadata": {},
     "output_type": "execute_result"
    }
   ],
   "source": [
    "get_ate(all_metrics, CONTROL_NAME)"
   ]
  },
  {
   "cell_type": "code",
   "execution_count": null,
   "metadata": {},
   "outputs": [],
   "source": []
  },
  {
   "cell_type": "code",
   "execution_count": null,
   "metadata": {},
   "outputs": [],
   "source": [
    "eta=0.5, num_round=100, max_depth=6, min_child_weight=3.0, \n",
    "gamma=8.0, alpha=0.01, reg_lambda=0.0, subsample=1.0, colsample_bytree=0.5"
   ]
  },
  {
   "cell_type": "code",
   "execution_count": 102,
   "metadata": {},
   "outputs": [],
   "source": [
    "static_params={'eval_metric': 'logloss',\n",
    " 'featuresCol': 'features',\n",
    " 'labelCol': 'label',\n",
    " 'nthread': 1,\n",
    " 'nworkers': 4,\n",
    " 'objective': 'binary:logistic',\n",
    " 'predictionCol': 'prediction',\n",
    " 'silent': 0}"
   ]
  },
  {
   "cell_type": "code",
   "execution_count": null,
   "metadata": {},
   "outputs": [],
   "source": [
    "space = {\n",
    "    \n",
    "    'alpha': alpha, \n",
    "    'reg_lambda': reg_lambda,\n",
    "    'num_round': num_round,\n",
    "    'eta': eta,\n",
    "    'min_child_weight': min_child_weight,\n",
    "    'max_depth': max_depth,\n",
    "    'gamma': gamma,\n",
    "    'subsample': subsample,\n",
    "    'colsample_bytree': colsample_bytree,\n",
    "    \n",
    "    \n",
    "    **static_params\n",
    "}"
   ]
  },
  {
   "cell_type": "code",
   "execution_count": 87,
   "metadata": {},
   "outputs": [],
   "source": [
    "DATA_PATH = '/workspace/data/criteo'\n",
    "\n",
    "TEST_PATH = os.path.join(DATA_PATH, 'test.csv')\n",
    "\n",
    "TEST = sqlContext.read.format(\"com.databricks.spark.csv\") \\\n",
    "    .option(\"delimiter\", \",\") \\\n",
    "    .option(\"header\", \"true\") \\\n",
    "    .option(\"inferSchema\", \"true\") \\\n",
    "    .load('file:///' + TEST_PATH)\n",
    "\n",
    "TEST = TEST\\\n",
    "    .fillna(0, subset=num_columns)"
   ]
  },
  {
   "cell_type": "code",
   "execution_count": 89,
   "metadata": {},
   "outputs": [],
   "source": [
    "TEST_trans = pipeline_model \\\n",
    "    .transform(TEST) \\\n",
    "    .select('features', 'id') \\\n",
    "    .cache()"
   ]
  },
  {
   "cell_type": "code",
   "execution_count": 95,
   "metadata": {},
   "outputs": [],
   "source": [
    "pred_TEST = model_xgb.transform(TEST_trans)"
   ]
  },
  {
   "cell_type": "code",
   "execution_count": 96,
   "metadata": {},
   "outputs": [],
   "source": [
    "from pyspark.sql.functions import udf\n",
    "from pyspark.sql.types import FloatType\n",
    "\n",
    "second_el = udf(lambda v: float(v[1]), FloatType())"
   ]
  },
  {
   "cell_type": "code",
   "execution_count": 99,
   "metadata": {},
   "outputs": [],
   "source": [
    "result = pred_TEST\\\n",
    "    .select('id', second_el('probabilities').alias('proba'))"
   ]
  },
  {
   "cell_type": "code",
   "execution_count": 103,
   "metadata": {},
   "outputs": [],
   "source": [
    "result.sort('id').toPandas().to_csv('./answers.csv', index=None)"
   ]
  },
  {
   "cell_type": "code",
   "execution_count": null,
   "metadata": {},
   "outputs": [],
   "source": []
  }
 ],
 "metadata": {
  "kernelspec": {
   "display_name": "Python 3",
   "language": "python",
   "name": "python3"
  },
  "language_info": {
   "codemirror_mode": {
    "name": "ipython",
    "version": 3
   },
   "file_extension": ".py",
   "mimetype": "text/x-python",
   "name": "python",
   "nbconvert_exporter": "python",
   "pygments_lexer": "ipython3",
   "version": "3.5.6"
  },
  "toc": {
   "base_numbering": 1,
   "nav_menu": {},
   "number_sections": true,
   "sideBar": true,
   "skip_h1_title": false,
   "title_cell": "Table of Contents",
   "title_sidebar": "Contents",
   "toc_cell": true,
   "toc_position": {},
   "toc_section_display": true,
   "toc_window_display": true
  }
 },
 "nbformat": 4,
 "nbformat_minor": 2
}
